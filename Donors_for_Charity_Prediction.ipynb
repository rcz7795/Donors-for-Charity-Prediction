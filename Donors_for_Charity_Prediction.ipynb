{
  "nbformat": 4,
  "nbformat_minor": 0,
  "metadata": {
    "colab": {
      "name": "Donors for Charity Prediction.ipynb",
      "provenance": []
    },
    "kernelspec": {
      "name": "python3",
      "display_name": "Python 3"
    }
  },
  "cells": [
    {
      "cell_type": "markdown",
      "metadata": {
        "id": "EfsuJ3ysYLQg",
        "colab_type": "text"
      },
      "source": [
        " # **Donors for Charity Prediction**"
      ]
    },
    {
      "cell_type": "markdown",
      "metadata": {
        "id": "eSUYh_BDYlRo",
        "colab_type": "text"
      },
      "source": [
        "## **1. Business Objective**\n",
        "\n",
        "Based on the income data, the aim of the project is to predict donors for charity."
      ]
    },
    {
      "cell_type": "markdown",
      "metadata": {
        "id": "Q4AbI_NkYl1Y",
        "colab_type": "text"
      },
      "source": [
        "## **2. Data Collection**\n",
        "\n",
        "The dataset was obtained from kaggle. Link: https://www.kaggle.com/wenruliu/adult-income-dataset\n",
        "\n",
        "\n"
      ]
    },
    {
      "cell_type": "code",
      "metadata": {
        "id": "MeFjXJGZInTr",
        "colab_type": "code",
        "colab": {
          "base_uri": "https://localhost:8080/",
          "height": 125
        },
        "outputId": "15018ff4-821f-4c92-ed4f-cd6a0bc088a1"
      },
      "source": [
        "# Connecting to Google drive\n",
        "\n",
        "from google.colab import drive\n",
        "drive.mount('/content/drive')"
      ],
      "execution_count": 1,
      "outputs": [
        {
          "output_type": "stream",
          "text": [
            "Go to this URL in a browser: https://accounts.google.com/o/oauth2/auth?client_id=947318989803-6bn6qk8qdgf4n4g3pfee6491hc0brc4i.apps.googleusercontent.com&redirect_uri=urn%3aietf%3awg%3aoauth%3a2.0%3aoob&scope=email%20https%3a%2f%2fwww.googleapis.com%2fauth%2fdocs.test%20https%3a%2f%2fwww.googleapis.com%2fauth%2fdrive%20https%3a%2f%2fwww.googleapis.com%2fauth%2fdrive.photos.readonly%20https%3a%2f%2fwww.googleapis.com%2fauth%2fpeopleapi.readonly&response_type=code\n",
            "\n",
            "Enter your authorization code:\n",
            "4/3wGlEGB4v3rMzOngm2ORE3a4U63C78O1ycD3UnbdqdNi_XjZzYYxBeQ\n",
            "Mounted at /content/drive\n"
          ],
          "name": "stdout"
        }
      ]
    },
    {
      "cell_type": "code",
      "metadata": {
        "id": "WwBOMULeb1OD",
        "colab_type": "code",
        "colab": {
          "base_uri": "https://localhost:8080/",
          "height": 72
        },
        "outputId": "fbb1032a-b8a9-40e3-f7c3-4ee046c3103e"
      },
      "source": [
        "# Importing the necessary libraries\n",
        "\n",
        "import numpy as np\n",
        "import pandas as pd\n",
        "import matplotlib.pyplot as plt\n",
        "import matplotlib\n",
        "import seaborn as sns\n",
        "\n",
        "import warnings\n",
        "warnings.filterwarnings(\"ignore\")"
      ],
      "execution_count": 2,
      "outputs": [
        {
          "output_type": "stream",
          "text": [
            "/usr/local/lib/python3.6/dist-packages/statsmodels/tools/_testing.py:19: FutureWarning: pandas.util.testing is deprecated. Use the functions in the public API at pandas.testing instead.\n",
            "  import pandas.util.testing as tm\n"
          ],
          "name": "stderr"
        }
      ]
    },
    {
      "cell_type": "code",
      "metadata": {
        "id": "KlCrvVitcRlZ",
        "colab_type": "code",
        "colab": {}
      },
      "source": [
        "# Setting up some parameters for the workbook\n",
        "\n",
        "plt.style.use('classic')\n",
        "pd.set_option('display.max_rows', 500)\n",
        "pd.options.display.max_columns = None\n",
        "\n",
        "%matplotlib inline\n",
        "matplotlib.rcParams[\"figure.figsize\"] = (10,5)"
      ],
      "execution_count": 3,
      "outputs": []
    },
    {
      "cell_type": "code",
      "metadata": {
        "id": "OVC_6E7DcXqm",
        "colab_type": "code",
        "colab": {}
      },
      "source": [
        "import statsmodels.api as sm\n",
        "from sklearn.preprocessing import LabelEncoder, OneHotEncoder\n",
        "from sklearn.model_selection import train_test_split, GridSearchCV, ShuffleSplit, RandomizedSearchCV, StratifiedKFold\n",
        "from sklearn.preprocessing import StandardScaler\n",
        "\n",
        "from sklearn.linear_model import LogisticRegression\n",
        "from sklearn.svm import SVC\n",
        "from sklearn.tree import DecisionTreeClassifier\n",
        "from sklearn.ensemble import RandomForestClassifier, AdaBoostClassifier, GradientBoostingClassifier\n",
        "from xgboost import XGBClassifier\n",
        "\n",
        "from sklearn.feature_selection import SelectFromModel\n",
        "from sklearn import metrics"
      ],
      "execution_count": 4,
      "outputs": []
    },
    {
      "cell_type": "markdown",
      "metadata": {
        "id": "-vNdMeymeSBt",
        "colab_type": "text"
      },
      "source": [
        "## **3. Data Preparation/Preprocessing**\n",
        "\n",
        "We will start with loading and familiarizing with the dataset so that we can prepare the data for Machine Learning (ML) modeling."
      ]
    },
    {
      "cell_type": "code",
      "metadata": {
        "id": "9gRbj1RDecIk",
        "colab_type": "code",
        "colab": {}
      },
      "source": [
        "# Loading the dataset\n",
        "\n",
        "file_path = \"/content/drive/My Drive/Colab Datasets/Donors for Charity Prediction/adult.csv\"\n",
        "income_data = pd.read_csv(file_path)"
      ],
      "execution_count": 5,
      "outputs": []
    },
    {
      "cell_type": "code",
      "metadata": {
        "id": "_FpxwkNWe4GO",
        "colab_type": "code",
        "colab": {
          "base_uri": "https://localhost:8080/",
          "height": 422
        },
        "outputId": "a534c3b6-1f17-43d5-8d0a-32d2f564f464"
      },
      "source": [
        "# Checking the features and no. of records in the dataset.\n",
        "\n",
        "print(\"The number of records are : \", income_data.shape[0])\n",
        "print(\"The number of features are : \", income_data.shape[1])\n",
        "print(\"The list of features is : \", income_data.columns)\n",
        "income_data.head()"
      ],
      "execution_count": 6,
      "outputs": [
        {
          "output_type": "stream",
          "text": [
            "The number of records are :  48842\n",
            "The number of features are :  15\n",
            "The list of features is :  Index(['age', 'workclass', 'fnlwgt', 'education', 'educational-num',\n",
            "       'marital-status', 'occupation', 'relationship', 'race', 'gender',\n",
            "       'capital-gain', 'capital-loss', 'hours-per-week', 'native-country',\n",
            "       'income'],\n",
            "      dtype='object')\n"
          ],
          "name": "stdout"
        },
        {
          "output_type": "execute_result",
          "data": {
            "text/html": [
              "<div>\n",
              "<style scoped>\n",
              "    .dataframe tbody tr th:only-of-type {\n",
              "        vertical-align: middle;\n",
              "    }\n",
              "\n",
              "    .dataframe tbody tr th {\n",
              "        vertical-align: top;\n",
              "    }\n",
              "\n",
              "    .dataframe thead th {\n",
              "        text-align: right;\n",
              "    }\n",
              "</style>\n",
              "<table border=\"1\" class=\"dataframe\">\n",
              "  <thead>\n",
              "    <tr style=\"text-align: right;\">\n",
              "      <th></th>\n",
              "      <th>age</th>\n",
              "      <th>workclass</th>\n",
              "      <th>fnlwgt</th>\n",
              "      <th>education</th>\n",
              "      <th>educational-num</th>\n",
              "      <th>marital-status</th>\n",
              "      <th>occupation</th>\n",
              "      <th>relationship</th>\n",
              "      <th>race</th>\n",
              "      <th>gender</th>\n",
              "      <th>capital-gain</th>\n",
              "      <th>capital-loss</th>\n",
              "      <th>hours-per-week</th>\n",
              "      <th>native-country</th>\n",
              "      <th>income</th>\n",
              "    </tr>\n",
              "  </thead>\n",
              "  <tbody>\n",
              "    <tr>\n",
              "      <th>0</th>\n",
              "      <td>25</td>\n",
              "      <td>Private</td>\n",
              "      <td>226802</td>\n",
              "      <td>11th</td>\n",
              "      <td>7</td>\n",
              "      <td>Never-married</td>\n",
              "      <td>Machine-op-inspct</td>\n",
              "      <td>Own-child</td>\n",
              "      <td>Black</td>\n",
              "      <td>Male</td>\n",
              "      <td>0</td>\n",
              "      <td>0</td>\n",
              "      <td>40</td>\n",
              "      <td>United-States</td>\n",
              "      <td>&lt;=50K</td>\n",
              "    </tr>\n",
              "    <tr>\n",
              "      <th>1</th>\n",
              "      <td>38</td>\n",
              "      <td>Private</td>\n",
              "      <td>89814</td>\n",
              "      <td>HS-grad</td>\n",
              "      <td>9</td>\n",
              "      <td>Married-civ-spouse</td>\n",
              "      <td>Farming-fishing</td>\n",
              "      <td>Husband</td>\n",
              "      <td>White</td>\n",
              "      <td>Male</td>\n",
              "      <td>0</td>\n",
              "      <td>0</td>\n",
              "      <td>50</td>\n",
              "      <td>United-States</td>\n",
              "      <td>&lt;=50K</td>\n",
              "    </tr>\n",
              "    <tr>\n",
              "      <th>2</th>\n",
              "      <td>28</td>\n",
              "      <td>Local-gov</td>\n",
              "      <td>336951</td>\n",
              "      <td>Assoc-acdm</td>\n",
              "      <td>12</td>\n",
              "      <td>Married-civ-spouse</td>\n",
              "      <td>Protective-serv</td>\n",
              "      <td>Husband</td>\n",
              "      <td>White</td>\n",
              "      <td>Male</td>\n",
              "      <td>0</td>\n",
              "      <td>0</td>\n",
              "      <td>40</td>\n",
              "      <td>United-States</td>\n",
              "      <td>&gt;50K</td>\n",
              "    </tr>\n",
              "    <tr>\n",
              "      <th>3</th>\n",
              "      <td>44</td>\n",
              "      <td>Private</td>\n",
              "      <td>160323</td>\n",
              "      <td>Some-college</td>\n",
              "      <td>10</td>\n",
              "      <td>Married-civ-spouse</td>\n",
              "      <td>Machine-op-inspct</td>\n",
              "      <td>Husband</td>\n",
              "      <td>Black</td>\n",
              "      <td>Male</td>\n",
              "      <td>7688</td>\n",
              "      <td>0</td>\n",
              "      <td>40</td>\n",
              "      <td>United-States</td>\n",
              "      <td>&gt;50K</td>\n",
              "    </tr>\n",
              "    <tr>\n",
              "      <th>4</th>\n",
              "      <td>18</td>\n",
              "      <td>?</td>\n",
              "      <td>103497</td>\n",
              "      <td>Some-college</td>\n",
              "      <td>10</td>\n",
              "      <td>Never-married</td>\n",
              "      <td>?</td>\n",
              "      <td>Own-child</td>\n",
              "      <td>White</td>\n",
              "      <td>Female</td>\n",
              "      <td>0</td>\n",
              "      <td>0</td>\n",
              "      <td>30</td>\n",
              "      <td>United-States</td>\n",
              "      <td>&lt;=50K</td>\n",
              "    </tr>\n",
              "  </tbody>\n",
              "</table>\n",
              "</div>"
            ],
            "text/plain": [
              "   age  workclass  fnlwgt     education  educational-num      marital-status  \\\n",
              "0   25    Private  226802          11th                7       Never-married   \n",
              "1   38    Private   89814       HS-grad                9  Married-civ-spouse   \n",
              "2   28  Local-gov  336951    Assoc-acdm               12  Married-civ-spouse   \n",
              "3   44    Private  160323  Some-college               10  Married-civ-spouse   \n",
              "4   18          ?  103497  Some-college               10       Never-married   \n",
              "\n",
              "          occupation relationship   race  gender  capital-gain  capital-loss  \\\n",
              "0  Machine-op-inspct    Own-child  Black    Male             0             0   \n",
              "1    Farming-fishing      Husband  White    Male             0             0   \n",
              "2    Protective-serv      Husband  White    Male             0             0   \n",
              "3  Machine-op-inspct      Husband  Black    Male          7688             0   \n",
              "4                  ?    Own-child  White  Female             0             0   \n",
              "\n",
              "   hours-per-week native-country income  \n",
              "0              40  United-States  <=50K  \n",
              "1              50  United-States  <=50K  \n",
              "2              40  United-States   >50K  \n",
              "3              40  United-States   >50K  \n",
              "4              30  United-States  <=50K  "
            ]
          },
          "metadata": {
            "tags": []
          },
          "execution_count": 6
        }
      ]
    },
    {
      "cell_type": "markdown",
      "metadata": {
        "id": "_hrvnlYBfJdf",
        "colab_type": "text"
      },
      "source": [
        "##### There are close to 49K records and 15 features in the dataset"
      ]
    },
    {
      "cell_type": "markdown",
      "metadata": {
        "id": "Wnxw3smrf_ZW",
        "colab_type": "text"
      },
      "source": [
        "### **3.1 Data Cleaning**\n",
        "\n",
        "We will begin with data cleaning such that we can handle missing values, outliers, rare values and drop the unnecessary features that do not carry useful information."
      ]
    },
    {
      "cell_type": "code",
      "metadata": {
        "id": "NxA852DVfCOX",
        "colab_type": "code",
        "colab": {
          "base_uri": "https://localhost:8080/",
          "height": 443
        },
        "outputId": "a05e5506-476a-44bf-fa21-404eec86b18b"
      },
      "source": [
        "# Checking the information about the dataset\n",
        "\n",
        "print(\"The features and its count is as follows:\\n\", income_data.info())"
      ],
      "execution_count": 7,
      "outputs": [
        {
          "output_type": "stream",
          "text": [
            "<class 'pandas.core.frame.DataFrame'>\n",
            "RangeIndex: 48842 entries, 0 to 48841\n",
            "Data columns (total 15 columns):\n",
            " #   Column           Non-Null Count  Dtype \n",
            "---  ------           --------------  ----- \n",
            " 0   age              48842 non-null  int64 \n",
            " 1   workclass        48842 non-null  object\n",
            " 2   fnlwgt           48842 non-null  int64 \n",
            " 3   education        48842 non-null  object\n",
            " 4   educational-num  48842 non-null  int64 \n",
            " 5   marital-status   48842 non-null  object\n",
            " 6   occupation       48842 non-null  object\n",
            " 7   relationship     48842 non-null  object\n",
            " 8   race             48842 non-null  object\n",
            " 9   gender           48842 non-null  object\n",
            " 10  capital-gain     48842 non-null  int64 \n",
            " 11  capital-loss     48842 non-null  int64 \n",
            " 12  hours-per-week   48842 non-null  int64 \n",
            " 13  native-country   48842 non-null  object\n",
            " 14  income           48842 non-null  object\n",
            "dtypes: int64(6), object(9)\n",
            "memory usage: 5.6+ MB\n",
            "The features and its count is as follows:\n",
            " None\n"
          ],
          "name": "stdout"
        }
      ]
    },
    {
      "cell_type": "markdown",
      "metadata": {
        "id": "hn1OWpHchH-p",
        "colab_type": "text"
      },
      "source": [
        "##### There are few categorical features in the dataset that we need to encode."
      ]
    },
    {
      "cell_type": "code",
      "metadata": {
        "id": "q_Ia72-SgP4C",
        "colab_type": "code",
        "colab": {
          "base_uri": "https://localhost:8080/",
          "height": 318
        },
        "outputId": "2025b0cc-c82a-4d2c-f788-9688b44e1f0b"
      },
      "source": [
        "# Checking the percentage of missing values\n",
        "\n",
        "print(\"The features and its count is as follows:\\n\", income_data.isnull().mean() * 100)"
      ],
      "execution_count": 8,
      "outputs": [
        {
          "output_type": "stream",
          "text": [
            "The features and its count is as follows:\n",
            " age                0.0\n",
            "workclass          0.0\n",
            "fnlwgt             0.0\n",
            "education          0.0\n",
            "educational-num    0.0\n",
            "marital-status     0.0\n",
            "occupation         0.0\n",
            "relationship       0.0\n",
            "race               0.0\n",
            "gender             0.0\n",
            "capital-gain       0.0\n",
            "capital-loss       0.0\n",
            "hours-per-week     0.0\n",
            "native-country     0.0\n",
            "income             0.0\n",
            "dtype: float64\n"
          ],
          "name": "stdout"
        }
      ]
    },
    {
      "cell_type": "code",
      "metadata": {
        "id": "EFyufvuVlP5W",
        "colab_type": "code",
        "colab": {
          "base_uri": "https://localhost:8080/",
          "height": 34
        },
        "outputId": "f927cba8-eb25-4e9c-eee2-7e054ac9efc4"
      },
      "source": [
        "# Checking for null values which is present in \"?\" form\n",
        "\n",
        "features_with_missing_values = []\n",
        "for feat in income_data.columns:\n",
        "    if \"?\" in income_data[feat].values:\n",
        "        features_with_missing_values.append(feat)\n",
        "\n",
        "print(\"The features with missing values are: \", features_with_missing_values)"
      ],
      "execution_count": 9,
      "outputs": [
        {
          "output_type": "stream",
          "text": [
            "The features with missing values are:  ['workclass', 'occupation', 'native-country']\n"
          ],
          "name": "stdout"
        }
      ]
    },
    {
      "cell_type": "markdown",
      "metadata": {
        "id": "jI3Ru0w2j44G",
        "colab_type": "text"
      },
      "source": [
        "##### Features \"workclass\", \"occupation\", \"native-country\" contains nan values."
      ]
    },
    {
      "cell_type": "markdown",
      "metadata": {
        "id": "J7F_vOyuNXdI",
        "colab_type": "text"
      },
      "source": [
        "#### **3.1.1 Handling missing values**"
      ]
    },
    {
      "cell_type": "code",
      "metadata": {
        "id": "7HkoQUWvNxlL",
        "colab_type": "code",
        "colab": {
          "base_uri": "https://localhost:8080/",
          "height": 194
        },
        "outputId": "ebcc5158-c489-4723-9530-b82ebc44228e"
      },
      "source": [
        "# Checking the \"workclass\" feature\n",
        "\n",
        "income_data[\"workclass\"].value_counts()"
      ],
      "execution_count": 10,
      "outputs": [
        {
          "output_type": "execute_result",
          "data": {
            "text/plain": [
              "Private             33906\n",
              "Self-emp-not-inc     3862\n",
              "Local-gov            3136\n",
              "?                    2799\n",
              "State-gov            1981\n",
              "Self-emp-inc         1695\n",
              "Federal-gov          1432\n",
              "Without-pay            21\n",
              "Never-worked           10\n",
              "Name: workclass, dtype: int64"
            ]
          },
          "metadata": {
            "tags": []
          },
          "execution_count": 10
        }
      ]
    },
    {
      "cell_type": "code",
      "metadata": {
        "id": "xU6a9cDLOkHl",
        "colab_type": "code",
        "colab": {
          "base_uri": "https://localhost:8080/",
          "height": 301
        },
        "outputId": "a50a521e-57e6-495b-e742-48c521fc7c64"
      },
      "source": [
        "# Checking the \"occupation\" feature\n",
        "\n",
        "income_data[\"occupation\"].value_counts()"
      ],
      "execution_count": 11,
      "outputs": [
        {
          "output_type": "execute_result",
          "data": {
            "text/plain": [
              "Prof-specialty       6172\n",
              "Craft-repair         6112\n",
              "Exec-managerial      6086\n",
              "Adm-clerical         5611\n",
              "Sales                5504\n",
              "Other-service        4923\n",
              "Machine-op-inspct    3022\n",
              "?                    2809\n",
              "Transport-moving     2355\n",
              "Handlers-cleaners    2072\n",
              "Farming-fishing      1490\n",
              "Tech-support         1446\n",
              "Protective-serv       983\n",
              "Priv-house-serv       242\n",
              "Armed-Forces           15\n",
              "Name: occupation, dtype: int64"
            ]
          },
          "metadata": {
            "tags": []
          },
          "execution_count": 11
        }
      ]
    },
    {
      "cell_type": "code",
      "metadata": {
        "id": "ZgDbRrM4OxQU",
        "colab_type": "code",
        "colab": {
          "base_uri": "https://localhost:8080/",
          "height": 781
        },
        "outputId": "97141de2-3bb5-4942-986e-fefc8e86398c"
      },
      "source": [
        "# Checking the \"native-country\" feature\n",
        "\n",
        "income_data[\"native-country\"].value_counts()"
      ],
      "execution_count": 12,
      "outputs": [
        {
          "output_type": "execute_result",
          "data": {
            "text/plain": [
              "United-States                 43832\n",
              "Mexico                          951\n",
              "?                               857\n",
              "Philippines                     295\n",
              "Germany                         206\n",
              "Puerto-Rico                     184\n",
              "Canada                          182\n",
              "El-Salvador                     155\n",
              "India                           151\n",
              "Cuba                            138\n",
              "England                         127\n",
              "China                           122\n",
              "South                           115\n",
              "Jamaica                         106\n",
              "Italy                           105\n",
              "Dominican-Republic              103\n",
              "Japan                            92\n",
              "Guatemala                        88\n",
              "Poland                           87\n",
              "Vietnam                          86\n",
              "Columbia                         85\n",
              "Haiti                            75\n",
              "Portugal                         67\n",
              "Taiwan                           65\n",
              "Iran                             59\n",
              "Greece                           49\n",
              "Nicaragua                        49\n",
              "Peru                             46\n",
              "Ecuador                          45\n",
              "France                           38\n",
              "Ireland                          37\n",
              "Thailand                         30\n",
              "Hong                             30\n",
              "Cambodia                         28\n",
              "Trinadad&Tobago                  27\n",
              "Outlying-US(Guam-USVI-etc)       23\n",
              "Laos                             23\n",
              "Yugoslavia                       23\n",
              "Scotland                         21\n",
              "Honduras                         20\n",
              "Hungary                          19\n",
              "Holand-Netherlands                1\n",
              "Name: native-country, dtype: int64"
            ]
          },
          "metadata": {
            "tags": []
          },
          "execution_count": 12
        }
      ]
    },
    {
      "cell_type": "code",
      "metadata": {
        "id": "3fpg0ygOPFjH",
        "colab_type": "code",
        "colab": {}
      },
      "source": [
        "# Imputing the missing values\n",
        "\n",
        "# Creating a new label for the missing workclass as a high proportion of values are missing\n",
        "income_data[\"workclass\"] = income_data[\"workclass\"].replace(\"?\", \"Others\")\n",
        "\n",
        "# Creating a new label for the missing occupation as a high proportion of values are missing\n",
        "income_data[\"occupation\"] = income_data[\"occupation\"].replace(\"?\", \"Others\")\n",
        "\n",
        "# Creating a new label for the missing occupation as a high proportion of values are missing\n",
        "income_data[\"native-country\"] = income_data[\"native-country\"].replace(\"?\", \"ROI\")"
      ],
      "execution_count": 13,
      "outputs": []
    },
    {
      "cell_type": "markdown",
      "metadata": {
        "id": "ogdi0P8QkVq5",
        "colab_type": "text"
      },
      "source": [
        "#### **3.2 Exploratory Data Analysis**\n",
        "\n",
        "After the data cleaning steps, we can now perform EDA on the dataset to discover patterns and relationships that will help in understanding the data better."
      ]
    },
    {
      "cell_type": "markdown",
      "metadata": {
        "id": "J29EMdsMT84v",
        "colab_type": "text"
      },
      "source": [
        "#### **3.2.1 Univariate Analysis**\n",
        "\n",
        "We will start with exploring the inidividual features of the dataset, and try to identify the outliers, rare values, high cardinality features along with their destribution"
      ]
    },
    {
      "cell_type": "code",
      "metadata": {
        "id": "wWKM3TWQVMyy",
        "colab_type": "code",
        "colab": {
          "base_uri": "https://localhost:8080/",
          "height": 324
        },
        "outputId": "86d79cee-439a-4fc1-e3ba-baefe61e329b"
      },
      "source": [
        "sns.set(style=\"darkgrid\")\n",
        "plot_objects = plt.subplots(nrows=1, ncols=1, figsize=(10, 4))\n",
        "fig, ax1 = plot_objects\n",
        "\n",
        "#sns.countplot(x = \"age\", data = income_data, ax=ax1)\n",
        "sns.distplot(income_data[\"age\"], ax=ax1)\n",
        "ax1.set_title(\"Age\")\n",
        "ax1.set_xlabel(\" \")"
      ],
      "execution_count": 14,
      "outputs": [
        {
          "output_type": "execute_result",
          "data": {
            "text/plain": [
              "Text(0.5, 0, ' ')"
            ]
          },
          "metadata": {
            "tags": []
          },
          "execution_count": 14
        },
        {
          "output_type": "display_data",
          "data": {
            "image/png": "[encoded data removed]",
            "text/plain": [
              "<Figure size 720x288 with 1 Axes>"
            ]
          },
          "metadata": {
            "tags": []
          }
        }
      ]
    },
    {
      "cell_type": "markdown",
      "metadata": {
        "id": "cWPT9cuSW7fi",
        "colab_type": "text"
      },
      "source": [
        "##### The distribution looks highly varied with few outlier like values towards the right. We can look to drop them to prevent overfitting."
      ]
    },
    {
      "cell_type": "code",
      "metadata": {
        "id": "6QrNcY1vXotb",
        "colab_type": "code",
        "colab": {
          "base_uri": "https://localhost:8080/",
          "height": 34
        },
        "outputId": "2ef6a395-7615-4907-c752-1e17c0213c4b"
      },
      "source": [
        "print(\"The count of people greater than age {} are : {}\".format(70, len(income_data[income_data[\"age\"] > 75])))"
      ],
      "execution_count": 15,
      "outputs": [
        {
          "output_type": "stream",
          "text": [
            "The count of people greater than age 70 are : 373\n"
          ],
          "name": "stdout"
        }
      ]
    },
    {
      "cell_type": "code",
      "metadata": {
        "id": "eA3XnqgIXRUH",
        "colab_type": "code",
        "colab": {
          "base_uri": "https://localhost:8080/",
          "height": 194
        },
        "outputId": "673c4cc5-cc24-485e-c98c-dfb7fda6eb49"
      },
      "source": [
        "# Checking the 99th quantile information\n",
        "\n",
        "quantile_age = income_data[\"age\"].quantile(np.round(np.arange(0.991, 1.001, 0.001), 4))\n",
        "qValues = np.round(np.arange(0.991, 1.001, 0.001), 4)\n",
        "for i in qValues:\n",
        "    print(\"{}th percentile value of age is {}\".format(((i*100)), quantile_age[i]))"
      ],
      "execution_count": 16,
      "outputs": [
        {
          "output_type": "stream",
          "text": [
            "99.1th percentile value of age is 75.0\n",
            "99.2th percentile value of age is 75.0\n",
            "99.3th percentile value of age is 76.0\n",
            "99.4th percentile value of age is 77.0\n",
            "99.5th percentile value of age is 78.0\n",
            "99.6th percentile value of age is 79.0\n",
            "99.7th percentile value of age is 81.0\n",
            "99.8th percentile value of age is 82.0\n",
            "99.9th percentile value of age is 90.0\n",
            "100.0th percentile value of age is 90.0\n"
          ],
          "name": "stdout"
        }
      ]
    },
    {
      "cell_type": "code",
      "metadata": {
        "id": "TTE6G6jgY-eG",
        "colab_type": "code",
        "colab": {}
      },
      "source": [
        "# Dropping the values less than 99th percentile\n",
        "\n",
        "cleaned_data = income_data[income_data[\"age\"] <= 75]"
      ],
      "execution_count": 17,
      "outputs": []
    },
    {
      "cell_type": "code",
      "metadata": {
        "id": "RxQ1aBgOZ5Gu",
        "colab_type": "code",
        "colab": {
          "base_uri": "https://localhost:8080/",
          "height": 381
        },
        "outputId": "48ba8075-647c-45f8-a290-6d52ab4e219a"
      },
      "source": [
        "# Visualizing the \"workclass\" feature\n",
        "\n",
        "sns.set(style=\"darkgrid\")\n",
        "plot_objects = plt.subplots(nrows=1, ncols=1, figsize=(20, 5))\n",
        "fig, ax1 = plot_objects\n",
        "\n",
        "sns.countplot(x = \"workclass\", data = cleaned_data, ax=ax1)\n",
        "ax1.set_title(\"Work Class\")\n",
        "ax1.set_xlabel(\" \")"
      ],
      "execution_count": 18,
      "outputs": [
        {
          "output_type": "execute_result",
          "data": {
            "text/plain": [
              "Text(0.5, 0, ' ')"
            ]
          },
          "metadata": {
            "tags": []
          },
          "execution_count": 18
        },
        {
          "output_type": "display_data",
          "data": {
            "image/png": "[encoded data removed]",
            "text/plain": [
              "<Figure size 1440x360 with 1 Axes>"
            ]
          },
          "metadata": {
            "tags": []
          }
        }
      ]
    },
    {
      "cell_type": "markdown",
      "metadata": {
        "id": "8kd5Phr6bYt7",
        "colab_type": "text"
      },
      "source": [
        "##### Most of the population are in the \"Private\" work class."
      ]
    },
    {
      "cell_type": "code",
      "metadata": {
        "id": "Ytf2K99QbmjT",
        "colab_type": "code",
        "colab": {
          "base_uri": "https://localhost:8080/",
          "height": 381
        },
        "outputId": "3be7441f-c697-4ec0-bd1d-a66a4712f850"
      },
      "source": [
        "# Visualizing the \"fnlwgt\" feature\n",
        "\n",
        "sns.set(style=\"darkgrid\")\n",
        "plot_objects = plt.subplots(nrows=1, ncols=1, figsize=(20, 5))\n",
        "fig, ax1 = plot_objects\n",
        "\n",
        "sns.distplot(cleaned_data[\"fnlwgt\"], ax=ax1)\n",
        "ax1.set_title(\"No. of people with similar features census believes in\")\n",
        "ax1.set_xlabel(\" \")"
      ],
      "execution_count": 19,
      "outputs": [
        {
          "output_type": "execute_result",
          "data": {
            "text/plain": [
              "Text(0.5, 0, ' ')"
            ]
          },
          "metadata": {
            "tags": []
          },
          "execution_count": 19
        },
        {
          "output_type": "display_data",
          "data": {
            "image/png": "[encoded data removed]",
            "text/plain": [
              "<Figure size 1440x360 with 1 Axes>"
            ]
          },
          "metadata": {
            "tags": []
          }
        }
      ]
    },
    {
      "cell_type": "code",
      "metadata": {
        "id": "lVdRJSufdGBe",
        "colab_type": "code",
        "colab": {
          "base_uri": "https://localhost:8080/",
          "height": 176
        },
        "outputId": "58e49749-5a18-4d18-f72b-754be5ad8508"
      },
      "source": [
        "cleaned_data[\"fnlwgt\"].describe()"
      ],
      "execution_count": 20,
      "outputs": [
        {
          "output_type": "execute_result",
          "data": {
            "text/plain": [
              "count    4.846900e+04\n",
              "mean     1.898884e+05\n",
              "std      1.057115e+05\n",
              "min      1.228500e+04\n",
              "25%      1.176060e+05\n",
              "50%      1.783560e+05\n",
              "75%      2.378790e+05\n",
              "max      1.490400e+06\n",
              "Name: fnlwgt, dtype: float64"
            ]
          },
          "metadata": {
            "tags": []
          },
          "execution_count": 20
        }
      ]
    },
    {
      "cell_type": "markdown",
      "metadata": {
        "id": "40f2y-WVdZAl",
        "colab_type": "text"
      },
      "source": [
        "##### This feature \"fnlwgt\" is highly right skewed."
      ]
    },
    {
      "cell_type": "code",
      "metadata": {
        "id": "lsJnQp93djW1",
        "colab_type": "code",
        "colab": {
          "base_uri": "https://localhost:8080/",
          "height": 381
        },
        "outputId": "b117d935-96a2-4a6a-9541-40a26f5bf7a3"
      },
      "source": [
        "# Visualizing the \"education\" feature\n",
        "\n",
        "sns.set(style=\"darkgrid\")\n",
        "plot_objects = plt.subplots(nrows=1, ncols=1, figsize=(20, 5))\n",
        "fig, ax1 = plot_objects\n",
        "\n",
        "sns.countplot(x = \"education\", data = cleaned_data, ax=ax1)\n",
        "ax1.set_title(\"Education\")\n",
        "ax1.set_xlabel(\" \")"
      ],
      "execution_count": 21,
      "outputs": [
        {
          "output_type": "execute_result",
          "data": {
            "text/plain": [
              "Text(0.5, 0, ' ')"
            ]
          },
          "metadata": {
            "tags": []
          },
          "execution_count": 21
        },
        {
          "output_type": "display_data",
          "data": {
            "image/png": "[encoded data removed]",
            "text/plain": [
              "<Figure size 1440x360 with 1 Axes>"
            ]
          },
          "metadata": {
            "tags": []
          }
        }
      ]
    },
    {
      "cell_type": "markdown",
      "metadata": {
        "id": "qqId_x21fGhm",
        "colab_type": "text"
      },
      "source": [
        "##### Most of population are \"HS-grad\" but looks like we can categorize them better. "
      ]
    },
    {
      "cell_type": "code",
      "metadata": {
        "id": "VjbGUyP-jTT2",
        "colab_type": "code",
        "colab": {
          "base_uri": "https://localhost:8080/",
          "height": 87
        },
        "outputId": "e1d265da-c03f-42cc-cc86-a4826bc8ef3d"
      },
      "source": [
        "cleaned_data[\"education\"].unique()"
      ],
      "execution_count": 22,
      "outputs": [
        {
          "output_type": "execute_result",
          "data": {
            "text/plain": [
              "array(['11th', 'HS-grad', 'Assoc-acdm', 'Some-college', '10th',\n",
              "       'Prof-school', '7th-8th', 'Bachelors', 'Masters', 'Doctorate',\n",
              "       '5th-6th', 'Assoc-voc', '9th', '12th', '1st-4th', 'Preschool'],\n",
              "      dtype=object)"
            ]
          },
          "metadata": {
            "tags": []
          },
          "execution_count": 22
        }
      ]
    },
    {
      "cell_type": "code",
      "metadata": {
        "id": "OGjNHWNEnkYa",
        "colab_type": "code",
        "colab": {}
      },
      "source": [
        "education_dict = {'11th' : \"High School\", 'HS-grad' : \"High School Graduate\", 'Assoc-acdm' : \"Assoc Acdm\", 'Some-college' : \"Bachelors\", '10th' : \"High School\",\n",
        "       'Prof-school' : \"Prof School\" , '7th-8th' : \"Middle School\", 'Bachelors' : \"Bachelors\", 'Masters' : \"Masters\", 'Doctorate' : \"Doctorate\",\n",
        "       '5th-6th': \"Middle School\", 'Assoc-voc' : \"Assoc Voc\", '9th' : \"High School\", '12th' : \"High School Graduate\", '1st-4th' : \"Primary School\", 'Preschool' : \"Primary School\"}"
      ],
      "execution_count": 23,
      "outputs": []
    },
    {
      "cell_type": "code",
      "metadata": {
        "id": "k4G-UbfnpX8B",
        "colab_type": "code",
        "colab": {}
      },
      "source": [
        "cleaned_data[\"education\"] = cleaned_data[\"education\"].map(education_dict)"
      ],
      "execution_count": 24,
      "outputs": []
    },
    {
      "cell_type": "code",
      "metadata": {
        "id": "puLFcTCYqF_x",
        "colab_type": "code",
        "colab": {
          "base_uri": "https://localhost:8080/",
          "height": 381
        },
        "outputId": "05e1502a-2c25-450e-df33-cc3f4729cecc"
      },
      "source": [
        "# Visualizing the \"education\" feature\n",
        "\n",
        "sns.set(style=\"darkgrid\")\n",
        "plot_objects = plt.subplots(nrows=1, ncols=1, figsize=(20, 5))\n",
        "fig, ax1 = plot_objects\n",
        "\n",
        "sns.countplot(x = \"education\", data = cleaned_data, ax=ax1)\n",
        "ax1.set_title(\"Education\")\n",
        "ax1.set_xlabel(\" \")"
      ],
      "execution_count": 25,
      "outputs": [
        {
          "output_type": "execute_result",
          "data": {
            "text/plain": [
              "Text(0.5, 0, ' ')"
            ]
          },
          "metadata": {
            "tags": []
          },
          "execution_count": 25
        },
        {
          "output_type": "display_data",
          "data": {
            "image/png": "[encoded data removed]",
            "text/plain": [
              "<Figure size 1440x360 with 1 Axes>"
            ]
          },
          "metadata": {
            "tags": []
          }
        }
      ]
    },
    {
      "cell_type": "code",
      "metadata": {
        "id": "hYIpBZRBpn6q",
        "colab_type": "code",
        "colab": {
          "base_uri": "https://localhost:8080/",
          "height": 34
        },
        "outputId": "3e15132a-92d8-4118-8769-4c627e87c223"
      },
      "source": [
        "# \"educational-num\" is the orderinal feature for \"education\" feature and can relabelled during the encoding, so we can drop it for now.\n",
        "\n",
        "cleaned_data[\"educational-num\"].unique()"
      ],
      "execution_count": 26,
      "outputs": [
        {
          "output_type": "execute_result",
          "data": {
            "text/plain": [
              "array([ 7,  9, 12, 10,  6, 15,  4, 13, 14, 16,  3, 11,  5,  8,  2,  1])"
            ]
          },
          "metadata": {
            "tags": []
          },
          "execution_count": 26
        }
      ]
    },
    {
      "cell_type": "code",
      "metadata": {
        "id": "Hl1Yh7iCl7sY",
        "colab_type": "code",
        "colab": {
          "base_uri": "https://localhost:8080/",
          "height": 381
        },
        "outputId": "4c35d4ae-c31b-4b71-a905-75e008a272d1"
      },
      "source": [
        "# Visualizing the \"marital-status\" feature\n",
        "\n",
        "sns.set(style=\"darkgrid\")\n",
        "plot_objects = plt.subplots(nrows=1, ncols=1, figsize=(20, 5))\n",
        "fig, ax1 = plot_objects\n",
        "\n",
        "sns.countplot(x = \"marital-status\", data = cleaned_data, ax=ax1)\n",
        "ax1.set_title(\"Marital Status\")\n",
        "ax1.set_xlabel(\" \")"
      ],
      "execution_count": 27,
      "outputs": [
        {
          "output_type": "execute_result",
          "data": {
            "text/plain": [
              "Text(0.5, 0, ' ')"
            ]
          },
          "metadata": {
            "tags": []
          },
          "execution_count": 27
        },
        {
          "output_type": "display_data",
          "data": {
            "image/png": "[encoded data removed]",
            "text/plain": [
              "<Figure size 1440x360 with 1 Axes>"
            ]
          },
          "metadata": {
            "tags": []
          }
        }
      ]
    },
    {
      "cell_type": "markdown",
      "metadata": {
        "id": "QaEZ0fq7rkLf",
        "colab_type": "text"
      },
      "source": [
        "##### Most of the population is \"married\"."
      ]
    },
    {
      "cell_type": "code",
      "metadata": {
        "id": "2M1Wiw81r0Si",
        "colab_type": "code",
        "colab": {
          "base_uri": "https://localhost:8080/",
          "height": 364
        },
        "outputId": "93a140ba-a4d6-4c36-8f79-ed25128700d2"
      },
      "source": [
        "# Visualizing the \"occupation\" feature\n",
        "\n",
        "sns.set(style=\"darkgrid\")\n",
        "plot_objects = plt.subplots(nrows=1, ncols=1, figsize=(25, 5))\n",
        "fig, ax1 = plot_objects\n",
        "\n",
        "sns.countplot(x = \"occupation\", data = cleaned_data, ax=ax1)\n",
        "ax1.set_title(\"Occupation\")\n",
        "ax1.set_xlabel(\" \")"
      ],
      "execution_count": 28,
      "outputs": [
        {
          "output_type": "execute_result",
          "data": {
            "text/plain": [
              "Text(0.5, 0, ' ')"
            ]
          },
          "metadata": {
            "tags": []
          },
          "execution_count": 28
        },
        {
          "output_type": "display_data",
          "data": {
            "image/png": "[encoded data removed]",
            "text/plain": [
              "<Figure size 1800x360 with 1 Axes>"
            ]
          },
          "metadata": {
            "tags": []
          }
        }
      ]
    },
    {
      "cell_type": "markdown",
      "metadata": {
        "id": "aHI3dxuSVNRX",
        "colab_type": "text"
      },
      "source": [
        "##### There are around 15 different occupations available in the dataset among which some of them are highly skewed."
      ]
    },
    {
      "cell_type": "code",
      "metadata": {
        "id": "Qx3Sovn8sym5",
        "colab_type": "code",
        "colab": {
          "base_uri": "https://localhost:8080/",
          "height": 381
        },
        "outputId": "22258cc1-6d90-44ef-c011-bfe05eae2d11"
      },
      "source": [
        "# Visualizing the \"relationship\" feature\n",
        "\n",
        "sns.set(style=\"darkgrid\")\n",
        "plot_objects = plt.subplots(nrows=1, ncols=1, figsize=(20, 5))\n",
        "fig, ax1 = plot_objects\n",
        "\n",
        "sns.countplot(x = \"relationship\", data = cleaned_data, ax=ax1)\n",
        "ax1.set_title(\"Relationship\")\n",
        "ax1.set_xlabel(\" \")"
      ],
      "execution_count": 29,
      "outputs": [
        {
          "output_type": "execute_result",
          "data": {
            "text/plain": [
              "Text(0.5, 0, ' ')"
            ]
          },
          "metadata": {
            "tags": []
          },
          "execution_count": 29
        },
        {
          "output_type": "display_data",
          "data": {
            "image/png": "[encoded data removed]",
            "text/plain": [
              "<Figure size 1440x360 with 1 Axes>"
            ]
          },
          "metadata": {
            "tags": []
          }
        }
      ]
    },
    {
      "cell_type": "code",
      "metadata": {
        "id": "VBmy1qCttHS_",
        "colab_type": "code",
        "colab": {
          "base_uri": "https://localhost:8080/",
          "height": 381
        },
        "outputId": "11ff635a-e555-4be6-9a16-530c9e505718"
      },
      "source": [
        "# Visualizing the \"relationship\" feature\n",
        "\n",
        "sns.set(style=\"darkgrid\")\n",
        "plot_objects = plt.subplots(nrows=1, ncols=1, figsize=(20, 5))\n",
        "fig, ax1 = plot_objects\n",
        "\n",
        "sns.countplot(x = \"gender\", data = cleaned_data, ax=ax1)\n",
        "ax1.set_title(\"Gender\")\n",
        "ax1.set_xlabel(\" \")"
      ],
      "execution_count": 30,
      "outputs": [
        {
          "output_type": "execute_result",
          "data": {
            "text/plain": [
              "Text(0.5, 0, ' ')"
            ]
          },
          "metadata": {
            "tags": []
          },
          "execution_count": 30
        },
        {
          "output_type": "display_data",
          "data": {
            "image/png": "[encoded data removed]",
            "text/plain": [
              "<Figure size 1440x360 with 1 Axes>"
            ]
          },
          "metadata": {
            "tags": []
          }
        }
      ]
    },
    {
      "cell_type": "markdown",
      "metadata": {
        "id": "4O6QW7S9tNgz",
        "colab_type": "text"
      },
      "source": [
        "##### Most of the population is \"Male\" and thereby the relationship is seen to be \"husbands\"."
      ]
    },
    {
      "cell_type": "code",
      "metadata": {
        "id": "xnKCZUadtZwI",
        "colab_type": "code",
        "colab": {
          "base_uri": "https://localhost:8080/",
          "height": 381
        },
        "outputId": "471b6251-6d15-49e3-bcc8-54a0287c4237"
      },
      "source": [
        "# Visualizing the \"race\" feature\n",
        "\n",
        "sns.set(style=\"darkgrid\")\n",
        "plot_objects = plt.subplots(nrows=1, ncols=1, figsize=(20, 5))\n",
        "fig, ax1 = plot_objects\n",
        "\n",
        "sns.countplot(x = \"race\", data = cleaned_data, ax=ax1)\n",
        "ax1.set_title(\"Race\")\n",
        "ax1.set_xlabel(\" \")"
      ],
      "execution_count": 31,
      "outputs": [
        {
          "output_type": "execute_result",
          "data": {
            "text/plain": [
              "Text(0.5, 0, ' ')"
            ]
          },
          "metadata": {
            "tags": []
          },
          "execution_count": 31
        },
        {
          "output_type": "display_data",
          "data": {
            "image/png": "[encoded data removed]",
            "text/plain": [
              "<Figure size 1440x360 with 1 Axes>"
            ]
          },
          "metadata": {
            "tags": []
          }
        }
      ]
    },
    {
      "cell_type": "markdown",
      "metadata": {
        "id": "SovC2wASwLLL",
        "colab_type": "text"
      },
      "source": [
        "##### Most of the population are \"white\"."
      ]
    },
    {
      "cell_type": "code",
      "metadata": {
        "id": "_K1OBEIptzQ-",
        "colab_type": "code",
        "colab": {
          "base_uri": "https://localhost:8080/",
          "height": 381
        },
        "outputId": "6baa414f-e170-4bd0-98c5-758ca3be1939"
      },
      "source": [
        "# Visualizing the \"capital-gain\" feature\n",
        "\n",
        "sns.set(style=\"darkgrid\")\n",
        "plot_objects = plt.subplots(nrows=1, ncols=1, figsize=(20, 5))\n",
        "fig, ax1 = plot_objects\n",
        "\n",
        "sns.distplot(cleaned_data[\"capital-gain\"], ax=ax1)\n",
        "ax1.set_title(\"Capital Gain\")\n",
        "ax1.set_xlabel(\" \")"
      ],
      "execution_count": 32,
      "outputs": [
        {
          "output_type": "execute_result",
          "data": {
            "text/plain": [
              "Text(0.5, 0, ' ')"
            ]
          },
          "metadata": {
            "tags": []
          },
          "execution_count": 32
        },
        {
          "output_type": "display_data",
          "data": {
            "image/png": "[encoded data removed]",
            "text/plain": [
              "<Figure size 1440x360 with 1 Axes>"
            ]
          },
          "metadata": {
            "tags": []
          }
        }
      ]
    },
    {
      "cell_type": "code",
      "metadata": {
        "id": "6s2FteNQwvwg",
        "colab_type": "code",
        "colab": {
          "base_uri": "https://localhost:8080/",
          "height": 381
        },
        "outputId": "bf635489-5ed8-4790-df8e-12c2edaa5124"
      },
      "source": [
        "# Visualizing the \"capital-loss\" feature\n",
        "\n",
        "sns.set(style=\"darkgrid\")\n",
        "plot_objects = plt.subplots(nrows=1, ncols=1, figsize=(20, 5))\n",
        "fig, ax1 = plot_objects\n",
        "\n",
        "sns.distplot(cleaned_data[\"capital-loss\"], ax=ax1)\n",
        "ax1.set_title(\"Capital Loss\")\n",
        "ax1.set_xlabel(\" \")"
      ],
      "execution_count": 33,
      "outputs": [
        {
          "output_type": "execute_result",
          "data": {
            "text/plain": [
              "Text(0.5, 0, ' ')"
            ]
          },
          "metadata": {
            "tags": []
          },
          "execution_count": 33
        },
        {
          "output_type": "display_data",
          "data": {
            "image/png": "[encoded data removed]",
            "text/plain": [
              "<Figure size 1440x360 with 1 Axes>"
            ]
          },
          "metadata": {
            "tags": []
          }
        }
      ]
    },
    {
      "cell_type": "code",
      "metadata": {
        "id": "Cr5cHUVTw9cM",
        "colab_type": "code",
        "colab": {
          "base_uri": "https://localhost:8080/",
          "height": 381
        },
        "outputId": "bcef5a1b-eb36-4e08-a265-6ab4ddc644cd"
      },
      "source": [
        "# Visualizing the \"hours-per-week\" feature\n",
        "\n",
        "sns.set(style=\"darkgrid\")\n",
        "plot_objects = plt.subplots(nrows=1, ncols=1, figsize=(20, 5))\n",
        "fig, ax1 = plot_objects\n",
        "\n",
        "sns.distplot(cleaned_data[\"hours-per-week\"], ax=ax1)\n",
        "ax1.set_title(\"Hours per week\")\n",
        "ax1.set_xlabel(\" \")"
      ],
      "execution_count": 34,
      "outputs": [
        {
          "output_type": "execute_result",
          "data": {
            "text/plain": [
              "Text(0.5, 0, ' ')"
            ]
          },
          "metadata": {
            "tags": []
          },
          "execution_count": 34
        },
        {
          "output_type": "display_data",
          "data": {
            "image/png": "[encoded data removed]",
            "text/plain": [
              "<Figure size 1440x360 with 1 Axes>"
            ]
          },
          "metadata": {
            "tags": []
          }
        }
      ]
    },
    {
      "cell_type": "markdown",
      "metadata": {
        "id": "ShnSKwHFyPfm",
        "colab_type": "text"
      },
      "source": [
        "##### Most the population works around 40-50hrs per week.\n",
        "\n",
        "\n",
        "\n"
      ]
    },
    {
      "cell_type": "code",
      "metadata": {
        "id": "Dg7ASNfQyOhd",
        "colab_type": "code",
        "colab": {
          "base_uri": "https://localhost:8080/",
          "height": 381
        },
        "outputId": "3c547489-090d-4dbd-b55a-a870b85cb1e0"
      },
      "source": [
        "# Visualizing the \"native-country\" feature\n",
        "\n",
        "sns.set(style=\"darkgrid\")\n",
        "plot_objects = plt.subplots(nrows=1, ncols=1, figsize=(20, 5))\n",
        "fig, ax1 = plot_objects\n",
        "\n",
        "sns.countplot(x = \"native-country\", data = cleaned_data, ax=ax1)\n",
        "ax1.set_title(\"Native Country\")\n",
        "ax1.set_xlabel(\" \")"
      ],
      "execution_count": 35,
      "outputs": [
        {
          "output_type": "execute_result",
          "data": {
            "text/plain": [
              "Text(0.5, 0, ' ')"
            ]
          },
          "metadata": {
            "tags": []
          },
          "execution_count": 35
        },
        {
          "output_type": "display_data",
          "data": {
            "image/png": "[encoded data removed]",
            "text/plain": [
              "<Figure size 1440x360 with 1 Axes>"
            ]
          },
          "metadata": {
            "tags": []
          }
        }
      ]
    },
    {
      "cell_type": "code",
      "metadata": {
        "id": "0uNmhbyYy2HF",
        "colab_type": "code",
        "colab": {
          "base_uri": "https://localhost:8080/",
          "height": 781
        },
        "outputId": "9105528d-33e7-4b1e-c68c-88538665c797"
      },
      "source": [
        "cleaned_data[\"native-country\"].value_counts()"
      ],
      "execution_count": 36,
      "outputs": [
        {
          "output_type": "execute_result",
          "data": {
            "text/plain": [
              "United-States                 43494\n",
              "Mexico                          950\n",
              "ROI                             851\n",
              "Philippines                     293\n",
              "Germany                         206\n",
              "Puerto-Rico                     183\n",
              "Canada                          178\n",
              "El-Salvador                     154\n",
              "India                           151\n",
              "Cuba                            136\n",
              "England                         124\n",
              "China                           121\n",
              "South                           112\n",
              "Jamaica                         106\n",
              "Italy                           104\n",
              "Dominican-Republic              102\n",
              "Japan                            92\n",
              "Guatemala                        88\n",
              "Vietnam                          86\n",
              "Columbia                         85\n",
              "Poland                           84\n",
              "Haiti                            75\n",
              "Portugal                         65\n",
              "Taiwan                           65\n",
              "Iran                             59\n",
              "Nicaragua                        48\n",
              "Greece                           48\n",
              "Peru                             46\n",
              "Ecuador                          44\n",
              "France                           38\n",
              "Ireland                          37\n",
              "Thailand                         30\n",
              "Hong                             30\n",
              "Cambodia                         28\n",
              "Trinadad&Tobago                  27\n",
              "Yugoslavia                       23\n",
              "Outlying-US(Guam-USVI-etc)       23\n",
              "Laos                             23\n",
              "Scotland                         21\n",
              "Honduras                         20\n",
              "Hungary                          18\n",
              "Holand-Netherlands                1\n",
              "Name: native-country, dtype: int64"
            ]
          },
          "metadata": {
            "tags": []
          },
          "execution_count": 36
        }
      ]
    },
    {
      "cell_type": "markdown",
      "metadata": {
        "id": "4L256HxIzFG0",
        "colab_type": "text"
      },
      "source": [
        "##### Most of the population are native Americans."
      ]
    },
    {
      "cell_type": "code",
      "metadata": {
        "id": "0l2ZmAX_zNG0",
        "colab_type": "code",
        "colab": {
          "base_uri": "https://localhost:8080/",
          "height": 381
        },
        "outputId": "73602d87-691f-4490-eaa2-ae8ba48337ee"
      },
      "source": [
        "# Visualizing the \"income\" feature\n",
        "\n",
        "sns.set(style=\"darkgrid\")\n",
        "plot_objects = plt.subplots(nrows=1, ncols=1, figsize=(20, 5))\n",
        "fig, ax1 = plot_objects\n",
        "\n",
        "sns.countplot(x = \"income\", data = cleaned_data, ax=ax1)\n",
        "ax1.set_title(\"Income\")\n",
        "ax1.set_xlabel(\" \")"
      ],
      "execution_count": 37,
      "outputs": [
        {
          "output_type": "execute_result",
          "data": {
            "text/plain": [
              "Text(0.5, 0, ' ')"
            ]
          },
          "metadata": {
            "tags": []
          },
          "execution_count": 37
        },
        {
          "output_type": "display_data",
          "data": {
            "image/png": "[encoded data removed]",
            "text/plain": [
              "<Figure size 1440x360 with 1 Axes>"
            ]
          },
          "metadata": {
            "tags": []
          }
        }
      ]
    },
    {
      "cell_type": "markdown",
      "metadata": {
        "id": "BlDRIErGzU7D",
        "colab_type": "text"
      },
      "source": [
        "##### Most of the population income is less than 50K. The dataset looks bit imbalanced so we might have to tackle that."
      ]
    },
    {
      "cell_type": "code",
      "metadata": {
        "id": "fKGfd6ozVO4C",
        "colab_type": "code",
        "colab": {}
      },
      "source": [
        "# Dropping the feature that are not needed anymore\n",
        "\n",
        "cleaned_data = cleaned_data.drop(labels=[\"educational-num\"], axis=1)"
      ],
      "execution_count": 38,
      "outputs": []
    },
    {
      "cell_type": "markdown",
      "metadata": {
        "id": "5MJcZyhK93iT",
        "colab_type": "text"
      },
      "source": [
        ""
      ]
    },
    {
      "cell_type": "markdown",
      "metadata": {
        "id": "aVpbV2Em0fr5",
        "colab_type": "text"
      },
      "source": [
        "#### **3.2.2 Bi-variate Analysis**\n",
        "\n",
        "We will try to analyze multiple feature to extract insights, patterns and relationships from the data."
      ]
    },
    {
      "cell_type": "code",
      "metadata": {
        "id": "1WIrxfPQ0wUv",
        "colab_type": "code",
        "colab": {
          "base_uri": "https://localhost:8080/",
          "height": 381
        },
        "outputId": "9f41c06c-71f9-4373-f7e9-e4daba88edd6"
      },
      "source": [
        "# Visualizing the \"income\" feature\n",
        "\n",
        "sns.set(style=\"darkgrid\")\n",
        "plot_objects = plt.subplots(nrows=1, ncols=1, figsize=(20, 5))\n",
        "fig, ax1 = plot_objects\n",
        "\n",
        "sns.violinplot(x = \"income\", y = \"hours-per-week\" , data = cleaned_data, ax=ax1)\n",
        "ax1.set_title(\"Income\")\n",
        "ax1.set_xlabel(\" \")"
      ],
      "execution_count": 39,
      "outputs": [
        {
          "output_type": "execute_result",
          "data": {
            "text/plain": [
              "Text(0.5, 0, ' ')"
            ]
          },
          "metadata": {
            "tags": []
          },
          "execution_count": 39
        },
        {
          "output_type": "display_data",
          "data": {
            "image/png": "[encoded data removed]",
            "text/plain": [
              "<Figure size 1440x360 with 1 Axes>"
            ]
          },
          "metadata": {
            "tags": []
          }
        }
      ]
    },
    {
      "cell_type": "markdown",
      "metadata": {
        "id": "U5RTQiE8IEon",
        "colab_type": "text"
      },
      "source": [
        "##### Observations:\n",
        "\n",
        "1.   Both the income groups tend to work similar number of hours per week.\n",
        "\n"
      ]
    },
    {
      "cell_type": "code",
      "metadata": {
        "id": "W5a46bhOKqqi",
        "colab_type": "code",
        "colab": {
          "base_uri": "https://localhost:8080/",
          "height": 381
        },
        "outputId": "8747c365-1a42-4783-8697-05f2ceaa95b2"
      },
      "source": [
        "# Visualizing the \"income\" feature\n",
        "\n",
        "sns.set(style=\"darkgrid\")\n",
        "plot_objects = plt.subplots(nrows=1, ncols=1, figsize=(20, 5))\n",
        "fig, ax1 = plot_objects\n",
        "\n",
        "sns.countplot(hue = \"income\", y = \"workclass\" , data = cleaned_data, ax=ax1)\n",
        "ax1.set_title(\"Income\")\n",
        "ax1.set_xlabel(\" \")"
      ],
      "execution_count": 40,
      "outputs": [
        {
          "output_type": "execute_result",
          "data": {
            "text/plain": [
              "Text(0.5, 0, ' ')"
            ]
          },
          "metadata": {
            "tags": []
          },
          "execution_count": 40
        },
        {
          "output_type": "display_data",
          "data": {
            "image/png": "[encoded data removed]",
            "text/plain": [
              "<Figure size 1440x360 with 1 Axes>"
            ]
          },
          "metadata": {
            "tags": []
          }
        }
      ]
    },
    {
      "cell_type": "markdown",
      "metadata": {
        "id": "ZvhJIYpjNusH",
        "colab_type": "text"
      },
      "source": [
        "##### Observations:\n",
        "\n",
        "1.   \"Private\" workclass tend to have the highest number of potential donors\n",
        "2.   Few of the labels can be grouped together to reduce the cardinality of the feature\n",
        "\n"
      ]
    },
    {
      "cell_type": "code",
      "metadata": {
        "id": "HiSBfZilLqYL",
        "colab_type": "code",
        "colab": {}
      },
      "source": [
        "# Merging couple of workclass labels with \"Others\"\n",
        "\n",
        "cleaned_data[\"workclass\"] = cleaned_data[\"workclass\"].replace(\"Without-pay\", \"Others\")\n",
        "cleaned_data[\"workclass\"] = cleaned_data[\"workclass\"].replace(\"Never-worked\", \"Others\")"
      ],
      "execution_count": 41,
      "outputs": []
    },
    {
      "cell_type": "code",
      "metadata": {
        "id": "W74R37aMMERX",
        "colab_type": "code",
        "colab": {
          "base_uri": "https://localhost:8080/",
          "height": 381
        },
        "outputId": "48f1a012-a317-45dd-a3b4-c871d5f1feab"
      },
      "source": [
        "# Visualizing the \"income\" feature\n",
        "\n",
        "sns.set(style=\"darkgrid\")\n",
        "plot_objects = plt.subplots(nrows=1, ncols=1, figsize=(20, 5))\n",
        "fig, ax1 = plot_objects\n",
        "\n",
        "sns.countplot(hue = \"income\", y = \"occupation\" , data = cleaned_data, ax=ax1)\n",
        "ax1.set_title(\"Income\")\n",
        "ax1.set_xlabel(\" \")"
      ],
      "execution_count": 42,
      "outputs": [
        {
          "output_type": "execute_result",
          "data": {
            "text/plain": [
              "Text(0.5, 0, ' ')"
            ]
          },
          "metadata": {
            "tags": []
          },
          "execution_count": 42
        },
        {
          "output_type": "display_data",
          "data": {
            "image/png": "[encoded data removed]",
            "text/plain": [
              "<Figure size 1440x360 with 1 Axes>"
            ]
          },
          "metadata": {
            "tags": []
          }
        }
      ]
    },
    {
      "cell_type": "markdown",
      "metadata": {
        "id": "eDvGLGHQOB6A",
        "colab_type": "text"
      },
      "source": [
        "##### Observations:\n",
        "\n",
        "1.   \"Prof-speciality\" and \"Exec-managerial\" are the two occupations with highest numbers of potential donors.\n",
        "2.   Few of the occupations have very low potential donors.\n",
        "\n"
      ]
    },
    {
      "cell_type": "code",
      "metadata": {
        "id": "vIz8WCAxOZah",
        "colab_type": "code",
        "colab": {
          "base_uri": "https://localhost:8080/",
          "height": 381
        },
        "outputId": "b792f629-b118-4483-f898-b7343e9ce2f2"
      },
      "source": [
        "# Visualizing the \"income\" feature\n",
        "\n",
        "sns.set(style=\"darkgrid\")\n",
        "plot_objects = plt.subplots(nrows=1, ncols=1, figsize=(20, 5))\n",
        "fig, ax1 = plot_objects\n",
        "\n",
        "sns.countplot(hue = \"income\", y = \"gender\" , data = cleaned_data, ax=ax1)\n",
        "ax1.set_title(\"Income\")\n",
        "ax1.set_xlabel(\" \")"
      ],
      "execution_count": 43,
      "outputs": [
        {
          "output_type": "execute_result",
          "data": {
            "text/plain": [
              "Text(0.5, 0, ' ')"
            ]
          },
          "metadata": {
            "tags": []
          },
          "execution_count": 43
        },
        {
          "output_type": "display_data",
          "data": {
            "image/png": "[encoded data removed]",
            "text/plain": [
              "<Figure size 1440x360 with 1 Axes>"
            ]
          },
          "metadata": {
            "tags": []
          }
        }
      ]
    },
    {
      "cell_type": "markdown",
      "metadata": {
        "id": "j743JN30PNof",
        "colab_type": "text"
      },
      "source": [
        "##### Observations:\n",
        "1.   \"Male\" population tend be higher than female for potential donors \n",
        "\n"
      ]
    },
    {
      "cell_type": "code",
      "metadata": {
        "id": "Et5wL554R3-y",
        "colab_type": "code",
        "colab": {
          "base_uri": "https://localhost:8080/",
          "height": 381
        },
        "outputId": "9593edee-8bc0-419a-a4d0-04d1a019745d"
      },
      "source": [
        "# Visualizing the \"income\" feature\n",
        "\n",
        "sns.set(style=\"darkgrid\")\n",
        "plot_objects = plt.subplots(nrows=1, ncols=1, figsize=(20, 5))\n",
        "fig, ax1 = plot_objects\n",
        "\n",
        "sns.countplot(hue = \"income\", y = \"marital-status\" , data = cleaned_data, ax=ax1)\n",
        "ax1.set_title(\"Income\")\n",
        "ax1.set_xlabel(\" \")"
      ],
      "execution_count": 44,
      "outputs": [
        {
          "output_type": "execute_result",
          "data": {
            "text/plain": [
              "Text(0.5, 0, ' ')"
            ]
          },
          "metadata": {
            "tags": []
          },
          "execution_count": 44
        },
        {
          "output_type": "display_data",
          "data": {
            "image/png": "[encoded data removed]",
            "text/plain": [
              "<Figure size 1440x360 with 1 Axes>"
            ]
          },
          "metadata": {
            "tags": []
          }
        }
      ]
    },
    {
      "cell_type": "markdown",
      "metadata": {
        "id": "1614E-xjSFK_",
        "colab_type": "text"
      },
      "source": [
        "##### Observations:\n",
        "1.   \"Married\" population seems to be the largest donors."
      ]
    },
    {
      "cell_type": "code",
      "metadata": {
        "id": "CmpDuI_xGlP3",
        "colab_type": "code",
        "colab": {
          "base_uri": "https://localhost:8080/",
          "height": 991
        },
        "outputId": "28e3a4fd-39db-41dc-c0ef-1b22c59da948"
      },
      "source": [
        "sns.set(style=\"whitegrid\", color_codes=True)\n",
        "sns.factorplot(x=\"gender\", col='education', data=cleaned_data, hue='income', kind=\"count\", col_wrap=4);"
      ],
      "execution_count": 45,
      "outputs": [
        {
          "output_type": "display_data",
          "data": {
            "image/png": "[encoded data removed]",
            "text/plain": [
              "<Figure size 1519.1x1080 with 10 Axes>"
            ]
          },
          "metadata": {
            "tags": []
          }
        }
      ]
    },
    {
      "cell_type": "markdown",
      "metadata": {
        "id": "6rVq13_cT7hr",
        "colab_type": "text"
      },
      "source": [
        "##### Observations:\n",
        "1. \"High School Graduate\" and \"Bachelors\" comprise a large portion of the population and thereby, the donors."
      ]
    },
    {
      "cell_type": "markdown",
      "metadata": {
        "id": "LIsjiWM9X70s",
        "colab_type": "text"
      },
      "source": [
        "### **3.3 Feature Extraction**\n",
        "\n",
        "We can now extract some meaningful features and drop the unimportant ones. We can look to reduce cardinality as well."
      ]
    },
    {
      "cell_type": "code",
      "metadata": {
        "id": "ry-jtV7zT3r1",
        "colab_type": "code",
        "colab": {}
      },
      "source": [
        "# changing the absolute values to categorical ones\n",
        "\n",
        "cleaned_data[\"capital-gain\"] = np.where(cleaned_data[\"capital-gain\"] > 0, 1, 0)\n",
        "cleaned_data[\"capital-loss\"] = np.where(cleaned_data[\"capital-loss\"] > 0, 1, 0)"
      ],
      "execution_count": 46,
      "outputs": []
    },
    {
      "cell_type": "code",
      "metadata": {
        "id": "AaoTh8JIr1K1",
        "colab_type": "code",
        "colab": {
          "base_uri": "https://localhost:8080/",
          "height": 197
        },
        "outputId": "6c8e75c8-3281-4c56-e392-00da78c2c0b5"
      },
      "source": [
        "cleaned_data.head()"
      ],
      "execution_count": 47,
      "outputs": [
        {
          "output_type": "execute_result",
          "data": {
            "text/html": [
              "<div>\n",
              "<style scoped>\n",
              "    .dataframe tbody tr th:only-of-type {\n",
              "        vertical-align: middle;\n",
              "    }\n",
              "\n",
              "    .dataframe tbody tr th {\n",
              "        vertical-align: top;\n",
              "    }\n",
              "\n",
              "    .dataframe thead th {\n",
              "        text-align: right;\n",
              "    }\n",
              "</style>\n",
              "<table border=\"1\" class=\"dataframe\">\n",
              "  <thead>\n",
              "    <tr style=\"text-align: right;\">\n",
              "      <th></th>\n",
              "      <th>age</th>\n",
              "      <th>workclass</th>\n",
              "      <th>fnlwgt</th>\n",
              "      <th>education</th>\n",
              "      <th>marital-status</th>\n",
              "      <th>occupation</th>\n",
              "      <th>relationship</th>\n",
              "      <th>race</th>\n",
              "      <th>gender</th>\n",
              "      <th>capital-gain</th>\n",
              "      <th>capital-loss</th>\n",
              "      <th>hours-per-week</th>\n",
              "      <th>native-country</th>\n",
              "      <th>income</th>\n",
              "    </tr>\n",
              "  </thead>\n",
              "  <tbody>\n",
              "    <tr>\n",
              "      <th>0</th>\n",
              "      <td>25</td>\n",
              "      <td>Private</td>\n",
              "      <td>226802</td>\n",
              "      <td>High School</td>\n",
              "      <td>Never-married</td>\n",
              "      <td>Machine-op-inspct</td>\n",
              "      <td>Own-child</td>\n",
              "      <td>Black</td>\n",
              "      <td>Male</td>\n",
              "      <td>0</td>\n",
              "      <td>0</td>\n",
              "      <td>40</td>\n",
              "      <td>United-States</td>\n",
              "      <td>&lt;=50K</td>\n",
              "    </tr>\n",
              "    <tr>\n",
              "      <th>1</th>\n",
              "      <td>38</td>\n",
              "      <td>Private</td>\n",
              "      <td>89814</td>\n",
              "      <td>High School Graduate</td>\n",
              "      <td>Married-civ-spouse</td>\n",
              "      <td>Farming-fishing</td>\n",
              "      <td>Husband</td>\n",
              "      <td>White</td>\n",
              "      <td>Male</td>\n",
              "      <td>0</td>\n",
              "      <td>0</td>\n",
              "      <td>50</td>\n",
              "      <td>United-States</td>\n",
              "      <td>&lt;=50K</td>\n",
              "    </tr>\n",
              "    <tr>\n",
              "      <th>2</th>\n",
              "      <td>28</td>\n",
              "      <td>Local-gov</td>\n",
              "      <td>336951</td>\n",
              "      <td>Assoc Acdm</td>\n",
              "      <td>Married-civ-spouse</td>\n",
              "      <td>Protective-serv</td>\n",
              "      <td>Husband</td>\n",
              "      <td>White</td>\n",
              "      <td>Male</td>\n",
              "      <td>0</td>\n",
              "      <td>0</td>\n",
              "      <td>40</td>\n",
              "      <td>United-States</td>\n",
              "      <td>&gt;50K</td>\n",
              "    </tr>\n",
              "    <tr>\n",
              "      <th>3</th>\n",
              "      <td>44</td>\n",
              "      <td>Private</td>\n",
              "      <td>160323</td>\n",
              "      <td>Bachelors</td>\n",
              "      <td>Married-civ-spouse</td>\n",
              "      <td>Machine-op-inspct</td>\n",
              "      <td>Husband</td>\n",
              "      <td>Black</td>\n",
              "      <td>Male</td>\n",
              "      <td>1</td>\n",
              "      <td>0</td>\n",
              "      <td>40</td>\n",
              "      <td>United-States</td>\n",
              "      <td>&gt;50K</td>\n",
              "    </tr>\n",
              "    <tr>\n",
              "      <th>4</th>\n",
              "      <td>18</td>\n",
              "      <td>Others</td>\n",
              "      <td>103497</td>\n",
              "      <td>Bachelors</td>\n",
              "      <td>Never-married</td>\n",
              "      <td>Others</td>\n",
              "      <td>Own-child</td>\n",
              "      <td>White</td>\n",
              "      <td>Female</td>\n",
              "      <td>0</td>\n",
              "      <td>0</td>\n",
              "      <td>30</td>\n",
              "      <td>United-States</td>\n",
              "      <td>&lt;=50K</td>\n",
              "    </tr>\n",
              "  </tbody>\n",
              "</table>\n",
              "</div>"
            ],
            "text/plain": [
              "   age  workclass  fnlwgt             education      marital-status  \\\n",
              "0   25    Private  226802           High School       Never-married   \n",
              "1   38    Private   89814  High School Graduate  Married-civ-spouse   \n",
              "2   28  Local-gov  336951            Assoc Acdm  Married-civ-spouse   \n",
              "3   44    Private  160323             Bachelors  Married-civ-spouse   \n",
              "4   18     Others  103497             Bachelors       Never-married   \n",
              "\n",
              "          occupation relationship   race  gender  capital-gain  capital-loss  \\\n",
              "0  Machine-op-inspct    Own-child  Black    Male             0             0   \n",
              "1    Farming-fishing      Husband  White    Male             0             0   \n",
              "2    Protective-serv      Husband  White    Male             0             0   \n",
              "3  Machine-op-inspct      Husband  Black    Male             1             0   \n",
              "4             Others    Own-child  White  Female             0             0   \n",
              "\n",
              "   hours-per-week native-country income  \n",
              "0              40  United-States  <=50K  \n",
              "1              50  United-States  <=50K  \n",
              "2              40  United-States   >50K  \n",
              "3              40  United-States   >50K  \n",
              "4              30  United-States  <=50K  "
            ]
          },
          "metadata": {
            "tags": []
          },
          "execution_count": 47
        }
      ]
    },
    {
      "cell_type": "code",
      "metadata": {
        "id": "l0HpfWpV0ysg",
        "colab_type": "code",
        "colab": {}
      },
      "source": [
        "# Since most of the data records are from US, we can club the rest of them into single one.\n",
        "\n",
        "def change_native_country(x):\n",
        "    if x == \"United-States\":\n",
        "        return x\n",
        "    else:\n",
        "        return \"Row\"\n",
        "\n",
        "cleaned_data[\"native-country\"] = cleaned_data[\"native-country\"].apply(change_native_country)"
      ],
      "execution_count": 48,
      "outputs": []
    },
    {
      "cell_type": "code",
      "metadata": {
        "id": "twkTOVkEm4zK",
        "colab_type": "code",
        "colab": {}
      },
      "source": [
        "# Since most of the data records are from US, we can club the rest of them into single one.\n",
        "\n",
        "def modify_race_feature(x):\n",
        "    if x == \"White\":\n",
        "        return x\n",
        "    else:\n",
        "        return \"Others\"\n",
        "\n",
        "cleaned_data[\"race\"] = cleaned_data[\"race\"].apply(modify_race_feature)"
      ],
      "execution_count": 49,
      "outputs": []
    },
    {
      "cell_type": "code",
      "metadata": {
        "id": "pYUaBH1OZldl",
        "colab_type": "code",
        "colab": {}
      },
      "source": [
        "# Dropping \"fnlwgt\" feature as it will not add  any use to prediction\n",
        "\n",
        "cleaned_data = cleaned_data.drop([\"fnlwgt\"], axis=1)"
      ],
      "execution_count": 50,
      "outputs": []
    },
    {
      "cell_type": "code",
      "metadata": {
        "id": "weOq5uLrqyUr",
        "colab_type": "code",
        "colab": {}
      },
      "source": [
        "cleaned_data.reset_index(inplace=True)\n",
        "cleaned_data.drop([\"index\"], axis=1, inplace=True)"
      ],
      "execution_count": 51,
      "outputs": []
    },
    {
      "cell_type": "markdown",
      "metadata": {
        "id": "vWTa0610dJsi",
        "colab_type": "text"
      },
      "source": [
        "### **3.4 Handling Categorical Features**\n",
        "\n",
        "Encoding the categorical features to be useful for ML algos."
      ]
    },
    {
      "cell_type": "code",
      "metadata": {
        "id": "5HpzU6s_cafY",
        "colab_type": "code",
        "colab": {}
      },
      "source": [
        "num_features = [\"age\", \"capital-gain\", \"capital-loss\", \"hours-per-week\"]\n",
        "cat_features = [\"workclass\", \"education\", \"occupation\", \"marital-status\", \"relationship\", \"race\", \"gender\", \"native-country\", \"income\"]"
      ],
      "execution_count": 52,
      "outputs": []
    },
    {
      "cell_type": "code",
      "metadata": {
        "id": "glNshbiGed-e",
        "colab_type": "code",
        "colab": {
          "base_uri": "https://localhost:8080/",
          "height": 70
        },
        "outputId": "8f7c1e3c-cba6-461e-9a9f-32e7ca021d3f"
      },
      "source": [
        "cleaned_data[\"education\"].unique()"
      ],
      "execution_count": 53,
      "outputs": [
        {
          "output_type": "execute_result",
          "data": {
            "text/plain": [
              "array(['High School', 'High School Graduate', 'Assoc Acdm', 'Bachelors',\n",
              "       'Prof School', 'Middle School', 'Masters', 'Doctorate',\n",
              "       'Assoc Voc', 'Primary School'], dtype=object)"
            ]
          },
          "metadata": {
            "tags": []
          },
          "execution_count": 53
        }
      ]
    },
    {
      "cell_type": "code",
      "metadata": {
        "id": "RedTpaEJewbf",
        "colab_type": "code",
        "colab": {}
      },
      "source": [
        "# Ordinal Encoding of feature \"education\"\n",
        "\n",
        "education_encoding = {'High School' : 3, 'High School Graduate' : 4, 'Assoc Acdm':6, 'Bachelors': 8,\n",
        "                      'Prof School' : 5, 'Middle School' : 2, 'Masters' : 9, 'Doctorate' : 10, 'Assoc Voc':7, 'Primary School' : 1}"
      ],
      "execution_count": 54,
      "outputs": []
    },
    {
      "cell_type": "code",
      "metadata": {
        "id": "7DqojOq3gwmf",
        "colab_type": "code",
        "colab": {}
      },
      "source": [
        "education_le = cleaned_data[[\"education\"]]\n",
        "education_le[\"education\"] = cleaned_data[\"education\"].map(education_encoding)"
      ],
      "execution_count": 55,
      "outputs": []
    },
    {
      "cell_type": "code",
      "metadata": {
        "id": "40GD1Zk-hziR",
        "colab_type": "code",
        "colab": {}
      },
      "source": [
        "le1 = LabelEncoder()\n",
        "workclass = le1.fit_transform(cleaned_data[\"workclass\"])\n",
        "\n",
        "le2 = LabelEncoder()\n",
        "occupation = le2.fit_transform(cleaned_data[\"occupation\"])\n",
        "\n",
        "le3 = LabelEncoder()\n",
        "marital_status = le3.fit_transform(cleaned_data[\"marital-status\"])\n",
        "\n",
        "le4 = LabelEncoder()\n",
        "relationship = le4.fit_transform(cleaned_data[\"relationship\"])\n",
        "\n",
        "le5 = LabelEncoder()\n",
        "race = le5.fit_transform(cleaned_data[\"race\"])\n",
        "\n",
        "le6 = LabelEncoder()\n",
        "gender = le6.fit_transform(cleaned_data[\"gender\"])\n",
        "\n",
        "le7 = LabelEncoder()\n",
        "native_country = le7.fit_transform(cleaned_data[\"native-country\"])\n",
        "\n",
        "le8 = LabelEncoder()\n",
        "income = le8.fit_transform(cleaned_data[\"income\"])"
      ],
      "execution_count": 56,
      "outputs": []
    },
    {
      "cell_type": "code",
      "metadata": {
        "id": "J31viUbDmda7",
        "colab_type": "code",
        "colab": {}
      },
      "source": [
        "ohe1 = OneHotEncoder()\n",
        "workclass_ohe = ohe1.fit_transform(workclass.reshape(-1,1))\n",
        "workclass_ohe = pd.DataFrame(workclass_ohe.toarray(), columns = [x +\"_Workclass\" for x in le1.classes_])\n",
        "\n",
        "ohe2 = OneHotEncoder()\n",
        "occupation_ohe = ohe2.fit_transform(occupation.reshape(-1,1))\n",
        "occupation_ohe = pd.DataFrame(occupation_ohe.toarray(), columns = [x +\"_Occupation\" for x in le2.classes_])\n",
        "\n",
        "ohe3 = OneHotEncoder()\n",
        "marital_status_ohe = ohe3.fit_transform(marital_status.reshape(-1,1))\n",
        "marital_status_ohe = pd.DataFrame(marital_status_ohe.toarray(), columns = [x +\"_Marital_Status\" for x in le3.classes_])\n",
        "\n",
        "ohe4 = OneHotEncoder()\n",
        "relationship_ohe = ohe4.fit_transform(relationship.reshape(-1,1))\n",
        "relationship_ohe = pd.DataFrame(relationship_ohe.toarray(), columns = [x +\"_Relationship\" for x in le4.classes_])"
      ],
      "execution_count": 57,
      "outputs": []
    },
    {
      "cell_type": "code",
      "metadata": {
        "id": "569zvQxZpCEc",
        "colab_type": "code",
        "colab": {}
      },
      "source": [
        "data_for_tree = pd.concat([cleaned_data[num_features], workclass_ohe, education_le,occupation_ohe, marital_status_ohe, relationship_ohe, pd.DataFrame(race, columns=[\"race\"]),\n",
        "                           pd.DataFrame(gender, columns=[\"gender\"]), pd.DataFrame(native_country, columns=[\"native-country\"]), pd.DataFrame(income, columns=[\"Donor\"])], axis = 1)"
      ],
      "execution_count": 58,
      "outputs": []
    },
    {
      "cell_type": "code",
      "metadata": {
        "id": "Iewk8FdFpknH",
        "colab_type": "code",
        "colab": {
          "base_uri": "https://localhost:8080/",
          "height": 460
        },
        "outputId": "263e5340-d807-46b8-a1d3-114a6c976738"
      },
      "source": [
        "data_for_tree"
      ],
      "execution_count": 59,
      "outputs": [
        {
          "output_type": "execute_result",
          "data": {
            "text/html": [
              "<div>\n",
              "<style scoped>\n",
              "    .dataframe tbody tr th:only-of-type {\n",
              "        vertical-align: middle;\n",
              "    }\n",
              "\n",
              "    .dataframe tbody tr th {\n",
              "        vertical-align: top;\n",
              "    }\n",
              "\n",
              "    .dataframe thead th {\n",
              "        text-align: right;\n",
              "    }\n",
              "</style>\n",
              "<table border=\"1\" class=\"dataframe\">\n",
              "  <thead>\n",
              "    <tr style=\"text-align: right;\">\n",
              "      <th></th>\n",
              "      <th>age</th>\n",
              "      <th>capital-gain</th>\n",
              "      <th>capital-loss</th>\n",
              "      <th>hours-per-week</th>\n",
              "      <th>Federal-gov_Workclass</th>\n",
              "      <th>Local-gov_Workclass</th>\n",
              "      <th>Others_Workclass</th>\n",
              "      <th>Private_Workclass</th>\n",
              "      <th>Self-emp-inc_Workclass</th>\n",
              "      <th>Self-emp-not-inc_Workclass</th>\n",
              "      <th>State-gov_Workclass</th>\n",
              "      <th>education</th>\n",
              "      <th>Adm-clerical_Occupation</th>\n",
              "      <th>Armed-Forces_Occupation</th>\n",
              "      <th>Craft-repair_Occupation</th>\n",
              "      <th>Exec-managerial_Occupation</th>\n",
              "      <th>Farming-fishing_Occupation</th>\n",
              "      <th>Handlers-cleaners_Occupation</th>\n",
              "      <th>Machine-op-inspct_Occupation</th>\n",
              "      <th>Other-service_Occupation</th>\n",
              "      <th>Others_Occupation</th>\n",
              "      <th>Priv-house-serv_Occupation</th>\n",
              "      <th>Prof-specialty_Occupation</th>\n",
              "      <th>Protective-serv_Occupation</th>\n",
              "      <th>Sales_Occupation</th>\n",
              "      <th>Tech-support_Occupation</th>\n",
              "      <th>Transport-moving_Occupation</th>\n",
              "      <th>Divorced_Marital_Status</th>\n",
              "      <th>Married-AF-spouse_Marital_Status</th>\n",
              "      <th>Married-civ-spouse_Marital_Status</th>\n",
              "      <th>Married-spouse-absent_Marital_Status</th>\n",
              "      <th>Never-married_Marital_Status</th>\n",
              "      <th>Separated_Marital_Status</th>\n",
              "      <th>Widowed_Marital_Status</th>\n",
              "      <th>Husband_Relationship</th>\n",
              "      <th>Not-in-family_Relationship</th>\n",
              "      <th>Other-relative_Relationship</th>\n",
              "      <th>Own-child_Relationship</th>\n",
              "      <th>Unmarried_Relationship</th>\n",
              "      <th>Wife_Relationship</th>\n",
              "      <th>race</th>\n",
              "      <th>gender</th>\n",
              "      <th>native-country</th>\n",
              "      <th>Donor</th>\n",
              "    </tr>\n",
              "  </thead>\n",
              "  <tbody>\n",
              "    <tr>\n",
              "      <th>0</th>\n",
              "      <td>25</td>\n",
              "      <td>0</td>\n",
              "      <td>0</td>\n",
              "      <td>40</td>\n",
              "      <td>0.0</td>\n",
              "      <td>0.0</td>\n",
              "      <td>0.0</td>\n",
              "      <td>1.0</td>\n",
              "      <td>0.0</td>\n",
              "      <td>0.0</td>\n",
              "      <td>0.0</td>\n",
              "      <td>3</td>\n",
              "      <td>0.0</td>\n",
              "      <td>0.0</td>\n",
              "      <td>0.0</td>\n",
              "      <td>0.0</td>\n",
              "      <td>0.0</td>\n",
              "      <td>0.0</td>\n",
              "      <td>1.0</td>\n",
              "      <td>0.0</td>\n",
              "      <td>0.0</td>\n",
              "      <td>0.0</td>\n",
              "      <td>0.0</td>\n",
              "      <td>0.0</td>\n",
              "      <td>0.0</td>\n",
              "      <td>0.0</td>\n",
              "      <td>0.0</td>\n",
              "      <td>0.0</td>\n",
              "      <td>0.0</td>\n",
              "      <td>0.0</td>\n",
              "      <td>0.0</td>\n",
              "      <td>1.0</td>\n",
              "      <td>0.0</td>\n",
              "      <td>0.0</td>\n",
              "      <td>0.0</td>\n",
              "      <td>0.0</td>\n",
              "      <td>0.0</td>\n",
              "      <td>1.0</td>\n",
              "      <td>0.0</td>\n",
              "      <td>0.0</td>\n",
              "      <td>0</td>\n",
              "      <td>1</td>\n",
              "      <td>1</td>\n",
              "      <td>0</td>\n",
              "    </tr>\n",
              "    <tr>\n",
              "      <th>1</th>\n",
              "      <td>38</td>\n",
              "      <td>0</td>\n",
              "      <td>0</td>\n",
              "      <td>50</td>\n",
              "      <td>0.0</td>\n",
              "      <td>0.0</td>\n",
              "      <td>0.0</td>\n",
              "      <td>1.0</td>\n",
              "      <td>0.0</td>\n",
              "      <td>0.0</td>\n",
              "      <td>0.0</td>\n",
              "      <td>4</td>\n",
              "      <td>0.0</td>\n",
              "      <td>0.0</td>\n",
              "      <td>0.0</td>\n",
              "      <td>0.0</td>\n",
              "      <td>1.0</td>\n",
              "      <td>0.0</td>\n",
              "      <td>0.0</td>\n",
              "      <td>0.0</td>\n",
              "      <td>0.0</td>\n",
              "      <td>0.0</td>\n",
              "      <td>0.0</td>\n",
              "      <td>0.0</td>\n",
              "      <td>0.0</td>\n",
              "      <td>0.0</td>\n",
              "      <td>0.0</td>\n",
              "      <td>0.0</td>\n",
              "      <td>0.0</td>\n",
              "      <td>1.0</td>\n",
              "      <td>0.0</td>\n",
              "      <td>0.0</td>\n",
              "      <td>0.0</td>\n",
              "      <td>0.0</td>\n",
              "      <td>1.0</td>\n",
              "      <td>0.0</td>\n",
              "      <td>0.0</td>\n",
              "      <td>0.0</td>\n",
              "      <td>0.0</td>\n",
              "      <td>0.0</td>\n",
              "      <td>1</td>\n",
              "      <td>1</td>\n",
              "      <td>1</td>\n",
              "      <td>0</td>\n",
              "    </tr>\n",
              "    <tr>\n",
              "      <th>2</th>\n",
              "      <td>28</td>\n",
              "      <td>0</td>\n",
              "      <td>0</td>\n",
              "      <td>40</td>\n",
              "      <td>0.0</td>\n",
              "      <td>1.0</td>\n",
              "      <td>0.0</td>\n",
              "      <td>0.0</td>\n",
              "      <td>0.0</td>\n",
              "      <td>0.0</td>\n",
              "      <td>0.0</td>\n",
              "      <td>6</td>\n",
              "      <td>0.0</td>\n",
              "      <td>0.0</td>\n",
              "      <td>0.0</td>\n",
              "      <td>0.0</td>\n",
              "      <td>0.0</td>\n",
              "      <td>0.0</td>\n",
              "      <td>0.0</td>\n",
              "      <td>0.0</td>\n",
              "      <td>0.0</td>\n",
              "      <td>0.0</td>\n",
              "      <td>0.0</td>\n",
              "      <td>1.0</td>\n",
              "      <td>0.0</td>\n",
              "      <td>0.0</td>\n",
              "      <td>0.0</td>\n",
              "      <td>0.0</td>\n",
              "      <td>0.0</td>\n",
              "      <td>1.0</td>\n",
              "      <td>0.0</td>\n",
              "      <td>0.0</td>\n",
              "      <td>0.0</td>\n",
              "      <td>0.0</td>\n",
              "      <td>1.0</td>\n",
              "      <td>0.0</td>\n",
              "      <td>0.0</td>\n",
              "      <td>0.0</td>\n",
              "      <td>0.0</td>\n",
              "      <td>0.0</td>\n",
              "      <td>1</td>\n",
              "      <td>1</td>\n",
              "      <td>1</td>\n",
              "      <td>1</td>\n",
              "    </tr>\n",
              "    <tr>\n",
              "      <th>3</th>\n",
              "      <td>44</td>\n",
              "      <td>1</td>\n",
              "      <td>0</td>\n",
              "      <td>40</td>\n",
              "      <td>0.0</td>\n",
              "      <td>0.0</td>\n",
              "      <td>0.0</td>\n",
              "      <td>1.0</td>\n",
              "      <td>0.0</td>\n",
              "      <td>0.0</td>\n",
              "      <td>0.0</td>\n",
              "      <td>8</td>\n",
              "      <td>0.0</td>\n",
              "      <td>0.0</td>\n",
              "      <td>0.0</td>\n",
              "      <td>0.0</td>\n",
              "      <td>0.0</td>\n",
              "      <td>0.0</td>\n",
              "      <td>1.0</td>\n",
              "      <td>0.0</td>\n",
              "      <td>0.0</td>\n",
              "      <td>0.0</td>\n",
              "      <td>0.0</td>\n",
              "      <td>0.0</td>\n",
              "      <td>0.0</td>\n",
              "      <td>0.0</td>\n",
              "      <td>0.0</td>\n",
              "      <td>0.0</td>\n",
              "      <td>0.0</td>\n",
              "      <td>1.0</td>\n",
              "      <td>0.0</td>\n",
              "      <td>0.0</td>\n",
              "      <td>0.0</td>\n",
              "      <td>0.0</td>\n",
              "      <td>1.0</td>\n",
              "      <td>0.0</td>\n",
              "      <td>0.0</td>\n",
              "      <td>0.0</td>\n",
              "      <td>0.0</td>\n",
              "      <td>0.0</td>\n",
              "      <td>0</td>\n",
              "      <td>1</td>\n",
              "      <td>1</td>\n",
              "      <td>1</td>\n",
              "    </tr>\n",
              "    <tr>\n",
              "      <th>4</th>\n",
              "      <td>18</td>\n",
              "      <td>0</td>\n",
              "      <td>0</td>\n",
              "      <td>30</td>\n",
              "      <td>0.0</td>\n",
              "      <td>0.0</td>\n",
              "      <td>1.0</td>\n",
              "      <td>0.0</td>\n",
              "      <td>0.0</td>\n",
              "      <td>0.0</td>\n",
              "      <td>0.0</td>\n",
              "      <td>8</td>\n",
              "      <td>0.0</td>\n",
              "      <td>0.0</td>\n",
              "      <td>0.0</td>\n",
              "      <td>0.0</td>\n",
              "      <td>0.0</td>\n",
              "      <td>0.0</td>\n",
              "      <td>0.0</td>\n",
              "      <td>0.0</td>\n",
              "      <td>1.0</td>\n",
              "      <td>0.0</td>\n",
              "      <td>0.0</td>\n",
              "      <td>0.0</td>\n",
              "      <td>0.0</td>\n",
              "      <td>0.0</td>\n",
              "      <td>0.0</td>\n",
              "      <td>0.0</td>\n",
              "      <td>0.0</td>\n",
              "      <td>0.0</td>\n",
              "      <td>0.0</td>\n",
              "      <td>1.0</td>\n",
              "      <td>0.0</td>\n",
              "      <td>0.0</td>\n",
              "      <td>0.0</td>\n",
              "      <td>0.0</td>\n",
              "      <td>0.0</td>\n",
              "      <td>1.0</td>\n",
              "      <td>0.0</td>\n",
              "      <td>0.0</td>\n",
              "      <td>1</td>\n",
              "      <td>0</td>\n",
              "      <td>1</td>\n",
              "      <td>0</td>\n",
              "    </tr>\n",
              "    <tr>\n",
              "      <th>...</th>\n",
              "      <td>...</td>\n",
              "      <td>...</td>\n",
              "      <td>...</td>\n",
              "      <td>...</td>\n",
              "      <td>...</td>\n",
              "      <td>...</td>\n",
              "      <td>...</td>\n",
              "      <td>...</td>\n",
              "      <td>...</td>\n",
              "      <td>...</td>\n",
              "      <td>...</td>\n",
              "      <td>...</td>\n",
              "      <td>...</td>\n",
              "      <td>...</td>\n",
              "      <td>...</td>\n",
              "      <td>...</td>\n",
              "      <td>...</td>\n",
              "      <td>...</td>\n",
              "      <td>...</td>\n",
              "      <td>...</td>\n",
              "      <td>...</td>\n",
              "      <td>...</td>\n",
              "      <td>...</td>\n",
              "      <td>...</td>\n",
              "      <td>...</td>\n",
              "      <td>...</td>\n",
              "      <td>...</td>\n",
              "      <td>...</td>\n",
              "      <td>...</td>\n",
              "      <td>...</td>\n",
              "      <td>...</td>\n",
              "      <td>...</td>\n",
              "      <td>...</td>\n",
              "      <td>...</td>\n",
              "      <td>...</td>\n",
              "      <td>...</td>\n",
              "      <td>...</td>\n",
              "      <td>...</td>\n",
              "      <td>...</td>\n",
              "      <td>...</td>\n",
              "      <td>...</td>\n",
              "      <td>...</td>\n",
              "      <td>...</td>\n",
              "      <td>...</td>\n",
              "    </tr>\n",
              "    <tr>\n",
              "      <th>48464</th>\n",
              "      <td>27</td>\n",
              "      <td>0</td>\n",
              "      <td>0</td>\n",
              "      <td>38</td>\n",
              "      <td>0.0</td>\n",
              "      <td>0.0</td>\n",
              "      <td>0.0</td>\n",
              "      <td>1.0</td>\n",
              "      <td>0.0</td>\n",
              "      <td>0.0</td>\n",
              "      <td>0.0</td>\n",
              "      <td>6</td>\n",
              "      <td>0.0</td>\n",
              "      <td>0.0</td>\n",
              "      <td>0.0</td>\n",
              "      <td>0.0</td>\n",
              "      <td>0.0</td>\n",
              "      <td>0.0</td>\n",
              "      <td>0.0</td>\n",
              "      <td>0.0</td>\n",
              "      <td>0.0</td>\n",
              "      <td>0.0</td>\n",
              "      <td>0.0</td>\n",
              "      <td>0.0</td>\n",
              "      <td>0.0</td>\n",
              "      <td>1.0</td>\n",
              "      <td>0.0</td>\n",
              "      <td>0.0</td>\n",
              "      <td>0.0</td>\n",
              "      <td>1.0</td>\n",
              "      <td>0.0</td>\n",
              "      <td>0.0</td>\n",
              "      <td>0.0</td>\n",
              "      <td>0.0</td>\n",
              "      <td>0.0</td>\n",
              "      <td>0.0</td>\n",
              "      <td>0.0</td>\n",
              "      <td>0.0</td>\n",
              "      <td>0.0</td>\n",
              "      <td>1.0</td>\n",
              "      <td>1</td>\n",
              "      <td>0</td>\n",
              "      <td>1</td>\n",
              "      <td>0</td>\n",
              "    </tr>\n",
              "    <tr>\n",
              "      <th>48465</th>\n",
              "      <td>40</td>\n",
              "      <td>0</td>\n",
              "      <td>0</td>\n",
              "      <td>40</td>\n",
              "      <td>0.0</td>\n",
              "      <td>0.0</td>\n",
              "      <td>0.0</td>\n",
              "      <td>1.0</td>\n",
              "      <td>0.0</td>\n",
              "      <td>0.0</td>\n",
              "      <td>0.0</td>\n",
              "      <td>4</td>\n",
              "      <td>0.0</td>\n",
              "      <td>0.0</td>\n",
              "      <td>0.0</td>\n",
              "      <td>0.0</td>\n",
              "      <td>0.0</td>\n",
              "      <td>0.0</td>\n",
              "      <td>1.0</td>\n",
              "      <td>0.0</td>\n",
              "      <td>0.0</td>\n",
              "      <td>0.0</td>\n",
              "      <td>0.0</td>\n",
              "      <td>0.0</td>\n",
              "      <td>0.0</td>\n",
              "      <td>0.0</td>\n",
              "      <td>0.0</td>\n",
              "      <td>0.0</td>\n",
              "      <td>0.0</td>\n",
              "      <td>1.0</td>\n",
              "      <td>0.0</td>\n",
              "      <td>0.0</td>\n",
              "      <td>0.0</td>\n",
              "      <td>0.0</td>\n",
              "      <td>1.0</td>\n",
              "      <td>0.0</td>\n",
              "      <td>0.0</td>\n",
              "      <td>0.0</td>\n",
              "      <td>0.0</td>\n",
              "      <td>0.0</td>\n",
              "      <td>1</td>\n",
              "      <td>1</td>\n",
              "      <td>1</td>\n",
              "      <td>1</td>\n",
              "    </tr>\n",
              "    <tr>\n",
              "      <th>48466</th>\n",
              "      <td>58</td>\n",
              "      <td>0</td>\n",
              "      <td>0</td>\n",
              "      <td>40</td>\n",
              "      <td>0.0</td>\n",
              "      <td>0.0</td>\n",
              "      <td>0.0</td>\n",
              "      <td>1.0</td>\n",
              "      <td>0.0</td>\n",
              "      <td>0.0</td>\n",
              "      <td>0.0</td>\n",
              "      <td>4</td>\n",
              "      <td>1.0</td>\n",
              "      <td>0.0</td>\n",
              "      <td>0.0</td>\n",
              "      <td>0.0</td>\n",
              "      <td>0.0</td>\n",
              "      <td>0.0</td>\n",
              "      <td>0.0</td>\n",
              "      <td>0.0</td>\n",
              "      <td>0.0</td>\n",
              "      <td>0.0</td>\n",
              "      <td>0.0</td>\n",
              "      <td>0.0</td>\n",
              "      <td>0.0</td>\n",
              "      <td>0.0</td>\n",
              "      <td>0.0</td>\n",
              "      <td>0.0</td>\n",
              "      <td>0.0</td>\n",
              "      <td>0.0</td>\n",
              "      <td>0.0</td>\n",
              "      <td>0.0</td>\n",
              "      <td>0.0</td>\n",
              "      <td>1.0</td>\n",
              "      <td>0.0</td>\n",
              "      <td>0.0</td>\n",
              "      <td>0.0</td>\n",
              "      <td>0.0</td>\n",
              "      <td>1.0</td>\n",
              "      <td>0.0</td>\n",
              "      <td>1</td>\n",
              "      <td>0</td>\n",
              "      <td>1</td>\n",
              "      <td>0</td>\n",
              "    </tr>\n",
              "    <tr>\n",
              "      <th>48467</th>\n",
              "      <td>22</td>\n",
              "      <td>0</td>\n",
              "      <td>0</td>\n",
              "      <td>20</td>\n",
              "      <td>0.0</td>\n",
              "      <td>0.0</td>\n",
              "      <td>0.0</td>\n",
              "      <td>1.0</td>\n",
              "      <td>0.0</td>\n",
              "      <td>0.0</td>\n",
              "      <td>0.0</td>\n",
              "      <td>4</td>\n",
              "      <td>1.0</td>\n",
              "      <td>0.0</td>\n",
              "      <td>0.0</td>\n",
              "      <td>0.0</td>\n",
              "      <td>0.0</td>\n",
              "      <td>0.0</td>\n",
              "      <td>0.0</td>\n",
              "      <td>0.0</td>\n",
              "      <td>0.0</td>\n",
              "      <td>0.0</td>\n",
              "      <td>0.0</td>\n",
              "      <td>0.0</td>\n",
              "      <td>0.0</td>\n",
              "      <td>0.0</td>\n",
              "      <td>0.0</td>\n",
              "      <td>0.0</td>\n",
              "      <td>0.0</td>\n",
              "      <td>0.0</td>\n",
              "      <td>0.0</td>\n",
              "      <td>1.0</td>\n",
              "      <td>0.0</td>\n",
              "      <td>0.0</td>\n",
              "      <td>0.0</td>\n",
              "      <td>0.0</td>\n",
              "      <td>0.0</td>\n",
              "      <td>1.0</td>\n",
              "      <td>0.0</td>\n",
              "      <td>0.0</td>\n",
              "      <td>1</td>\n",
              "      <td>1</td>\n",
              "      <td>1</td>\n",
              "      <td>0</td>\n",
              "    </tr>\n",
              "    <tr>\n",
              "      <th>48468</th>\n",
              "      <td>52</td>\n",
              "      <td>1</td>\n",
              "      <td>0</td>\n",
              "      <td>40</td>\n",
              "      <td>0.0</td>\n",
              "      <td>0.0</td>\n",
              "      <td>0.0</td>\n",
              "      <td>0.0</td>\n",
              "      <td>1.0</td>\n",
              "      <td>0.0</td>\n",
              "      <td>0.0</td>\n",
              "      <td>4</td>\n",
              "      <td>0.0</td>\n",
              "      <td>0.0</td>\n",
              "      <td>0.0</td>\n",
              "      <td>1.0</td>\n",
              "      <td>0.0</td>\n",
              "      <td>0.0</td>\n",
              "      <td>0.0</td>\n",
              "      <td>0.0</td>\n",
              "      <td>0.0</td>\n",
              "      <td>0.0</td>\n",
              "      <td>0.0</td>\n",
              "      <td>0.0</td>\n",
              "      <td>0.0</td>\n",
              "      <td>0.0</td>\n",
              "      <td>0.0</td>\n",
              "      <td>0.0</td>\n",
              "      <td>0.0</td>\n",
              "      <td>1.0</td>\n",
              "      <td>0.0</td>\n",
              "      <td>0.0</td>\n",
              "      <td>0.0</td>\n",
              "      <td>0.0</td>\n",
              "      <td>0.0</td>\n",
              "      <td>0.0</td>\n",
              "      <td>0.0</td>\n",
              "      <td>0.0</td>\n",
              "      <td>0.0</td>\n",
              "      <td>1.0</td>\n",
              "      <td>1</td>\n",
              "      <td>0</td>\n",
              "      <td>1</td>\n",
              "      <td>1</td>\n",
              "    </tr>\n",
              "  </tbody>\n",
              "</table>\n",
              "<p>48469 rows × 44 columns</p>\n",
              "</div>"
            ],
            "text/plain": [
              "       age  capital-gain  capital-loss  hours-per-week  Federal-gov_Workclass  \\\n",
              "0       25             0             0              40                    0.0   \n",
              "1       38             0             0              50                    0.0   \n",
              "2       28             0             0              40                    0.0   \n",
              "3       44             1             0              40                    0.0   \n",
              "4       18             0             0              30                    0.0   \n",
              "...    ...           ...           ...             ...                    ...   \n",
              "48464   27             0             0              38                    0.0   \n",
              "48465   40             0             0              40                    0.0   \n",
              "48466   58             0             0              40                    0.0   \n",
              "48467   22             0             0              20                    0.0   \n",
              "48468   52             1             0              40                    0.0   \n",
              "\n",
              "       Local-gov_Workclass  Others_Workclass  Private_Workclass  \\\n",
              "0                      0.0               0.0                1.0   \n",
              "1                      0.0               0.0                1.0   \n",
              "2                      1.0               0.0                0.0   \n",
              "3                      0.0               0.0                1.0   \n",
              "4                      0.0               1.0                0.0   \n",
              "...                    ...               ...                ...   \n",
              "48464                  0.0               0.0                1.0   \n",
              "48465                  0.0               0.0                1.0   \n",
              "48466                  0.0               0.0                1.0   \n",
              "48467                  0.0               0.0                1.0   \n",
              "48468                  0.0               0.0                0.0   \n",
              "\n",
              "       Self-emp-inc_Workclass  Self-emp-not-inc_Workclass  \\\n",
              "0                         0.0                         0.0   \n",
              "1                         0.0                         0.0   \n",
              "2                         0.0                         0.0   \n",
              "3                         0.0                         0.0   \n",
              "4                         0.0                         0.0   \n",
              "...                       ...                         ...   \n",
              "48464                     0.0                         0.0   \n",
              "48465                     0.0                         0.0   \n",
              "48466                     0.0                         0.0   \n",
              "48467                     0.0                         0.0   \n",
              "48468                     1.0                         0.0   \n",
              "\n",
              "       State-gov_Workclass  education  Adm-clerical_Occupation  \\\n",
              "0                      0.0          3                      0.0   \n",
              "1                      0.0          4                      0.0   \n",
              "2                      0.0          6                      0.0   \n",
              "3                      0.0          8                      0.0   \n",
              "4                      0.0          8                      0.0   \n",
              "...                    ...        ...                      ...   \n",
              "48464                  0.0          6                      0.0   \n",
              "48465                  0.0          4                      0.0   \n",
              "48466                  0.0          4                      1.0   \n",
              "48467                  0.0          4                      1.0   \n",
              "48468                  0.0          4                      0.0   \n",
              "\n",
              "       Armed-Forces_Occupation  Craft-repair_Occupation  \\\n",
              "0                          0.0                      0.0   \n",
              "1                          0.0                      0.0   \n",
              "2                          0.0                      0.0   \n",
              "3                          0.0                      0.0   \n",
              "4                          0.0                      0.0   \n",
              "...                        ...                      ...   \n",
              "48464                      0.0                      0.0   \n",
              "48465                      0.0                      0.0   \n",
              "48466                      0.0                      0.0   \n",
              "48467                      0.0                      0.0   \n",
              "48468                      0.0                      0.0   \n",
              "\n",
              "       Exec-managerial_Occupation  Farming-fishing_Occupation  \\\n",
              "0                             0.0                         0.0   \n",
              "1                             0.0                         1.0   \n",
              "2                             0.0                         0.0   \n",
              "3                             0.0                         0.0   \n",
              "4                             0.0                         0.0   \n",
              "...                           ...                         ...   \n",
              "48464                         0.0                         0.0   \n",
              "48465                         0.0                         0.0   \n",
              "48466                         0.0                         0.0   \n",
              "48467                         0.0                         0.0   \n",
              "48468                         1.0                         0.0   \n",
              "\n",
              "       Handlers-cleaners_Occupation  Machine-op-inspct_Occupation  \\\n",
              "0                               0.0                           1.0   \n",
              "1                               0.0                           0.0   \n",
              "2                               0.0                           0.0   \n",
              "3                               0.0                           1.0   \n",
              "4                               0.0                           0.0   \n",
              "...                             ...                           ...   \n",
              "48464                           0.0                           0.0   \n",
              "48465                           0.0                           1.0   \n",
              "48466                           0.0                           0.0   \n",
              "48467                           0.0                           0.0   \n",
              "48468                           0.0                           0.0   \n",
              "\n",
              "       Other-service_Occupation  Others_Occupation  \\\n",
              "0                           0.0                0.0   \n",
              "1                           0.0                0.0   \n",
              "2                           0.0                0.0   \n",
              "3                           0.0                0.0   \n",
              "4                           0.0                1.0   \n",
              "...                         ...                ...   \n",
              "48464                       0.0                0.0   \n",
              "48465                       0.0                0.0   \n",
              "48466                       0.0                0.0   \n",
              "48467                       0.0                0.0   \n",
              "48468                       0.0                0.0   \n",
              "\n",
              "       Priv-house-serv_Occupation  Prof-specialty_Occupation  \\\n",
              "0                             0.0                        0.0   \n",
              "1                             0.0                        0.0   \n",
              "2                             0.0                        0.0   \n",
              "3                             0.0                        0.0   \n",
              "4                             0.0                        0.0   \n",
              "...                           ...                        ...   \n",
              "48464                         0.0                        0.0   \n",
              "48465                         0.0                        0.0   \n",
              "48466                         0.0                        0.0   \n",
              "48467                         0.0                        0.0   \n",
              "48468                         0.0                        0.0   \n",
              "\n",
              "       Protective-serv_Occupation  Sales_Occupation  Tech-support_Occupation  \\\n",
              "0                             0.0               0.0                      0.0   \n",
              "1                             0.0               0.0                      0.0   \n",
              "2                             1.0               0.0                      0.0   \n",
              "3                             0.0               0.0                      0.0   \n",
              "4                             0.0               0.0                      0.0   \n",
              "...                           ...               ...                      ...   \n",
              "48464                         0.0               0.0                      1.0   \n",
              "48465                         0.0               0.0                      0.0   \n",
              "48466                         0.0               0.0                      0.0   \n",
              "48467                         0.0               0.0                      0.0   \n",
              "48468                         0.0               0.0                      0.0   \n",
              "\n",
              "       Transport-moving_Occupation  Divorced_Marital_Status  \\\n",
              "0                              0.0                      0.0   \n",
              "1                              0.0                      0.0   \n",
              "2                              0.0                      0.0   \n",
              "3                              0.0                      0.0   \n",
              "4                              0.0                      0.0   \n",
              "...                            ...                      ...   \n",
              "48464                          0.0                      0.0   \n",
              "48465                          0.0                      0.0   \n",
              "48466                          0.0                      0.0   \n",
              "48467                          0.0                      0.0   \n",
              "48468                          0.0                      0.0   \n",
              "\n",
              "       Married-AF-spouse_Marital_Status  Married-civ-spouse_Marital_Status  \\\n",
              "0                                   0.0                                0.0   \n",
              "1                                   0.0                                1.0   \n",
              "2                                   0.0                                1.0   \n",
              "3                                   0.0                                1.0   \n",
              "4                                   0.0                                0.0   \n",
              "...                                 ...                                ...   \n",
              "48464                               0.0                                1.0   \n",
              "48465                               0.0                                1.0   \n",
              "48466                               0.0                                0.0   \n",
              "48467                               0.0                                0.0   \n",
              "48468                               0.0                                1.0   \n",
              "\n",
              "       Married-spouse-absent_Marital_Status  Never-married_Marital_Status  \\\n",
              "0                                       0.0                           1.0   \n",
              "1                                       0.0                           0.0   \n",
              "2                                       0.0                           0.0   \n",
              "3                                       0.0                           0.0   \n",
              "4                                       0.0                           1.0   \n",
              "...                                     ...                           ...   \n",
              "48464                                   0.0                           0.0   \n",
              "48465                                   0.0                           0.0   \n",
              "48466                                   0.0                           0.0   \n",
              "48467                                   0.0                           1.0   \n",
              "48468                                   0.0                           0.0   \n",
              "\n",
              "       Separated_Marital_Status  Widowed_Marital_Status  Husband_Relationship  \\\n",
              "0                           0.0                     0.0                   0.0   \n",
              "1                           0.0                     0.0                   1.0   \n",
              "2                           0.0                     0.0                   1.0   \n",
              "3                           0.0                     0.0                   1.0   \n",
              "4                           0.0                     0.0                   0.0   \n",
              "...                         ...                     ...                   ...   \n",
              "48464                       0.0                     0.0                   0.0   \n",
              "48465                       0.0                     0.0                   1.0   \n",
              "48466                       0.0                     1.0                   0.0   \n",
              "48467                       0.0                     0.0                   0.0   \n",
              "48468                       0.0                     0.0                   0.0   \n",
              "\n",
              "       Not-in-family_Relationship  Other-relative_Relationship  \\\n",
              "0                             0.0                          0.0   \n",
              "1                             0.0                          0.0   \n",
              "2                             0.0                          0.0   \n",
              "3                             0.0                          0.0   \n",
              "4                             0.0                          0.0   \n",
              "...                           ...                          ...   \n",
              "48464                         0.0                          0.0   \n",
              "48465                         0.0                          0.0   \n",
              "48466                         0.0                          0.0   \n",
              "48467                         0.0                          0.0   \n",
              "48468                         0.0                          0.0   \n",
              "\n",
              "       Own-child_Relationship  Unmarried_Relationship  Wife_Relationship  \\\n",
              "0                         1.0                     0.0                0.0   \n",
              "1                         0.0                     0.0                0.0   \n",
              "2                         0.0                     0.0                0.0   \n",
              "3                         0.0                     0.0                0.0   \n",
              "4                         1.0                     0.0                0.0   \n",
              "...                       ...                     ...                ...   \n",
              "48464                     0.0                     0.0                1.0   \n",
              "48465                     0.0                     0.0                0.0   \n",
              "48466                     0.0                     1.0                0.0   \n",
              "48467                     1.0                     0.0                0.0   \n",
              "48468                     0.0                     0.0                1.0   \n",
              "\n",
              "       race  gender  native-country  Donor  \n",
              "0         0       1               1      0  \n",
              "1         1       1               1      0  \n",
              "2         1       1               1      1  \n",
              "3         0       1               1      1  \n",
              "4         1       0               1      0  \n",
              "...     ...     ...             ...    ...  \n",
              "48464     1       0               1      0  \n",
              "48465     1       1               1      1  \n",
              "48466     1       0               1      0  \n",
              "48467     1       1               1      0  \n",
              "48468     1       0               1      1  \n",
              "\n",
              "[48469 rows x 44 columns]"
            ]
          },
          "metadata": {
            "tags": []
          },
          "execution_count": 59
        }
      ]
    },
    {
      "cell_type": "markdown",
      "metadata": {
        "id": "Dfrsi0PdrpdR",
        "colab_type": "text"
      },
      "source": [
        "## **4. Model Building**\n",
        "\n",
        "After the data preparation we can now proceed to build models for donor prediction."
      ]
    },
    {
      "cell_type": "markdown",
      "metadata": {
        "id": "MgCZTTlwr8vD",
        "colab_type": "text"
      },
      "source": [
        "### **4.1 Train/test Splitting**\n",
        "\n",
        "Splitting the dataset into dependent and independent features and creating train/test splits."
      ]
    },
    {
      "cell_type": "code",
      "metadata": {
        "id": "_6r1sMifr3p3",
        "colab_type": "code",
        "colab": {}
      },
      "source": [
        "X_tree = data_for_tree.drop([\"Donor\"], axis=1)\n",
        "y_tree = data_for_tree[[\"Donor\"]]"
      ],
      "execution_count": 60,
      "outputs": []
    },
    {
      "cell_type": "code",
      "metadata": {
        "id": "bfEqSjYIC6fp",
        "colab_type": "code",
        "colab": {
          "base_uri": "https://localhost:8080/",
          "height": 52
        },
        "outputId": "6281faeb-bb2f-4fa3-ad3f-67aeb9ab4ff1"
      },
      "source": [
        "X_tree_train, X_tree_test, y_tree_train, y_tree_test = train_test_split(X_tree.values, y_tree.values, test_size=0.2, random_state=42)\n",
        "print('X_train.shape: ', X_tree_train.shape, '\\tX_test.shape: ', X_tree_test.shape, '\\nY_train.shape: ', y_tree_train.shape, '\\tY_test.shape: ', y_tree_test.shape)"
      ],
      "execution_count": 61,
      "outputs": [
        {
          "output_type": "stream",
          "text": [
            "X_train.shape:  (38775, 43) \tX_test.shape:  (9694, 43) \n",
            "Y_train.shape:  (38775, 1) \tY_test.shape:  (9694, 1)\n"
          ],
          "name": "stdout"
        }
      ]
    },
    {
      "cell_type": "code",
      "metadata": {
        "id": "8832BoMUsWbd",
        "colab_type": "code",
        "colab": {}
      },
      "source": [
        "from sklearn.metrics import accuracy_score, confusion_matrix, f1_score, precision_score, recall_score"
      ],
      "execution_count": 62,
      "outputs": []
    },
    {
      "cell_type": "code",
      "metadata": {
        "id": "q2mJPKF4Alt3",
        "colab_type": "code",
        "colab": {}
      },
      "source": [
        "def fcnPrintErrorMetrics(y_test, y_pred):\n",
        "    print('Accuracy:', accuracy_score(y_test, y_pred))\n",
        "    print('Precision Score:', precision_score(y_test, y_pred))\n",
        "    print('Recall Score:', metrics.recall_score(y_test, y_pred))\n",
        "    print('F1-Score:', f1_score(y_test, y_pred))\n",
        "\n",
        "\n",
        "    sns.heatmap(confusion_matrix(y_pred, y_test), annot=True, fmt=\"d\")\n",
        "    plt.title(\"Confusion Matrix\")"
      ],
      "execution_count": 63,
      "outputs": []
    },
    {
      "cell_type": "markdown",
      "metadata": {
        "id": "xN3iH8-yt6P9",
        "colab_type": "text"
      },
      "source": [
        "### **4.2 Model Fitting**\n",
        "\n",
        "Testing out various models to pick the best for the given dataset."
      ]
    },
    {
      "cell_type": "code",
      "metadata": {
        "id": "1LEzYhfTBmFn",
        "colab_type": "code",
        "colab": {
          "base_uri": "https://localhost:8080/",
          "height": 415
        },
        "outputId": "289b9090-c23f-4397-a93b-952e5f2d5350"
      },
      "source": [
        "# Logistic Regression'\n",
        "\n",
        "log_reg = LogisticRegression(penalty='l2')\n",
        "log_reg.fit(X_tree_train, y_tree_train)\n",
        "y_pred1 = log_reg.predict(X_tree_test)\n",
        "\n",
        "fcnPrintErrorMetrics(y_tree_test, y_pred1)"
      ],
      "execution_count": 64,
      "outputs": [
        {
          "output_type": "stream",
          "text": [
            "Accuracy: 0.8415514751392614\n",
            "Precision Score: 0.7082268778742974\n",
            "Recall Score: 0.5895363675031902\n",
            "F1-Score: 0.6434540389972145\n"
          ],
          "name": "stdout"
        },
        {
          "output_type": "display_data",
          "data": {
            "image/png": "[encoded data removed]",
            "text/plain": [
              "<Figure size 720x360 with 2 Axes>"
            ]
          },
          "metadata": {
            "tags": []
          }
        }
      ]
    },
    {
      "cell_type": "code",
      "metadata": {
        "id": "6LSYaLd7DFqj",
        "colab_type": "code",
        "colab": {
          "base_uri": "https://localhost:8080/",
          "height": 415
        },
        "outputId": "15c4e873-bca6-4ec5-cec6-4d6ef85c394b"
      },
      "source": [
        "svc = SVC()\n",
        "svc.fit(X_tree_train, y_tree_train)\n",
        "y_pred2 = svc.predict(X_tree_test)\n",
        "\n",
        "fcnPrintErrorMetrics(y_tree_test, y_pred2)"
      ],
      "execution_count": 65,
      "outputs": [
        {
          "output_type": "stream",
          "text": [
            "Accuracy: 0.827109552300392\n",
            "Precision Score: 0.7076923076923077\n",
            "Recall Score: 0.48915355168013613\n",
            "F1-Score: 0.5784708249496983\n"
          ],
          "name": "stdout"
        },
        {
          "output_type": "display_data",
          "data": {
            "image/png": "[encoded data removed]",
            "text/plain": [
              "<Figure size 720x360 with 2 Axes>"
            ]
          },
          "metadata": {
            "tags": []
          }
        }
      ]
    },
    {
      "cell_type": "code",
      "metadata": {
        "id": "-4yxfj06ERld",
        "colab_type": "code",
        "colab": {
          "base_uri": "https://localhost:8080/",
          "height": 415
        },
        "outputId": "1fc2b401-000b-41f3-93cb-4965b1a2979e"
      },
      "source": [
        "dt_clf = DecisionTreeClassifier()\n",
        "dt_clf.fit(X_tree_train, y_tree_train)\n",
        "y_pred3 = dt_clf.predict(X_tree_test)\n",
        "\n",
        "fcnPrintErrorMetrics(y_tree_test, y_pred3)"
      ],
      "execution_count": 66,
      "outputs": [
        {
          "output_type": "stream",
          "text": [
            "Accuracy: 0.7962657313802352\n",
            "Precision Score: 0.58348134991119\n",
            "Recall Score: 0.5589111016588686\n",
            "F1-Score: 0.5709320008689984\n"
          ],
          "name": "stdout"
        },
        {
          "output_type": "display_data",
          "data": {
            "image/png": "[encoded data removed]",
            "text/plain": [
              "<Figure size 720x360 with 2 Axes>"
            ]
          },
          "metadata": {
            "tags": []
          }
        }
      ]
    },
    {
      "cell_type": "code",
      "metadata": {
        "id": "kBFisUMcEVbz",
        "colab_type": "code",
        "colab": {
          "base_uri": "https://localhost:8080/",
          "height": 415
        },
        "outputId": "8e24ee58-fa70-4dd5-ff3f-6157588c62b7"
      },
      "source": [
        "rf_clf = RandomForestClassifier()\n",
        "rf_clf.fit(X_tree_train, y_tree_train)\n",
        "y_pred4 = rf_clf.predict(X_tree_test)\n",
        "\n",
        "fcnPrintErrorMetrics(y_tree_test, y_pred4)"
      ],
      "execution_count": 67,
      "outputs": [
        {
          "output_type": "stream",
          "text": [
            "Accuracy: 0.8279348050340417\n",
            "Precision Score: 0.661160924964606\n",
            "Recall Score: 0.5959166312207571\n",
            "F1-Score: 0.6268456375838926\n"
          ],
          "name": "stdout"
        },
        {
          "output_type": "display_data",
          "data": {
            "image/png": "[encoded data removed]",
            "text/plain": [
              "<Figure size 720x360 with 2 Axes>"
            ]
          },
          "metadata": {
            "tags": []
          }
        }
      ]
    },
    {
      "cell_type": "code",
      "metadata": {
        "id": "i6Qlc8zaErQa",
        "colab_type": "code",
        "colab": {
          "base_uri": "https://localhost:8080/",
          "height": 415
        },
        "outputId": "3c395889-6ea6-41ba-afa6-13ba4146821b"
      },
      "source": [
        "ab_clf = AdaBoostClassifier()\n",
        "ab_clf.fit(X_tree_train, y_tree_train)\n",
        "y_pred5 = ab_clf.predict(X_tree_test)\n",
        "\n",
        "fcnPrintErrorMetrics(y_tree_test, y_pred5)"
      ],
      "execution_count": 68,
      "outputs": [
        {
          "output_type": "stream",
          "text": [
            "Accuracy: 0.849185062925521\n",
            "Precision Score: 0.7273657289002557\n",
            "Recall Score: 0.604849000425351\n",
            "F1-Score: 0.6604737575476081\n"
          ],
          "name": "stdout"
        },
        {
          "output_type": "display_data",
          "data": {
            "image/png": "[encoded data removed]",
            "text/plain": [
              "<Figure size 720x360 with 2 Axes>"
            ]
          },
          "metadata": {
            "tags": []
          }
        }
      ]
    },
    {
      "cell_type": "code",
      "metadata": {
        "id": "kdAbe4BGErdO",
        "colab_type": "code",
        "colab": {
          "base_uri": "https://localhost:8080/",
          "height": 415
        },
        "outputId": "99972eba-31b4-42af-d7d9-417e6824f941"
      },
      "source": [
        "gb_clf = GradientBoostingClassifier()\n",
        "gb_clf.fit(X_tree_train, y_tree_train)\n",
        "y_pred6 = gb_clf.predict(X_tree_test)\n",
        "\n",
        "fcnPrintErrorMetrics(y_tree_test, y_pred6)"
      ],
      "execution_count": 69,
      "outputs": [
        {
          "output_type": "stream",
          "text": [
            "Accuracy: 0.8490819063338148\n",
            "Precision Score: 0.7317327766179541\n",
            "Recall Score: 0.5963419821352616\n",
            "F1-Score: 0.6571361612374033\n"
          ],
          "name": "stdout"
        },
        {
          "output_type": "display_data",
          "data": {
            "image/png": "[encoded data removed]",
            "text/plain": [
              "<Figure size 720x360 with 2 Axes>"
            ]
          },
          "metadata": {
            "tags": []
          }
        }
      ]
    },
    {
      "cell_type": "code",
      "metadata": {
        "id": "niwR5ITGFDX6",
        "colab_type": "code",
        "colab": {
          "base_uri": "https://localhost:8080/",
          "height": 415
        },
        "outputId": "7e931793-da5e-4ad6-8800-171472e77818"
      },
      "source": [
        "xgb_clf = XGBClassifier()\n",
        "xgb_clf.fit(X_tree_train, y_tree_train)\n",
        "y_pred7 = xgb_clf.predict(X_tree_test)\n",
        "\n",
        "fcnPrintErrorMetrics(y_tree_test, y_pred7)"
      ],
      "execution_count": 70,
      "outputs": [
        {
          "output_type": "stream",
          "text": [
            "Accuracy: 0.8494945327006396\n",
            "Precision Score: 0.732776617954071\n",
            "Recall Score: 0.5971926839642705\n",
            "F1-Score: 0.6580735880009374\n"
          ],
          "name": "stdout"
        },
        {
          "output_type": "display_data",
          "data": {
            "image/png": "[encoded data removed]",
            "text/plain": [
              "<Figure size 720x360 with 2 Axes>"
            ]
          },
          "metadata": {
            "tags": []
          }
        }
      ]
    },
    {
      "cell_type": "markdown",
      "metadata": {
        "id": "3RuuJZgXuIn0",
        "colab_type": "text"
      },
      "source": [
        "### **4.3 Hyperparameter Optimization**\n",
        "\n",
        "Optimizing the parameters for RandomForest and Xgboost."
      ]
    },
    {
      "cell_type": "code",
      "metadata": {
        "id": "o7ceN3Q4FYN2",
        "colab_type": "code",
        "colab": {
          "base_uri": "https://localhost:8080/",
          "height": 123
        },
        "outputId": "797a4dc2-59c7-4599-c5b1-4eecd495b9f4"
      },
      "source": [
        "# Implementing GridSearchCV with RandomForest\n",
        "\n",
        "n_estimators = [100, 500, 750, 1000]\n",
        "max_depth = [8, 15, 25, 30]\n",
        "min_samples_split = [2, 5, 10, 15]\n",
        "min_samples_leaf = [1, 2, 5, 10] \n",
        "\n",
        "hyperF = dict(n_estimators = n_estimators, max_depth = max_depth,  \n",
        "              min_samples_split = min_samples_split, \n",
        "             min_samples_leaf = min_samples_leaf)\n",
        "\n",
        "gridF = GridSearchCV(rf_clf, hyperF, cv = 3, verbose = 1, n_jobs = -1)\n",
        "bestF = gridF.fit(X_tree_train, y_tree_train)"
      ],
      "execution_count": 71,
      "outputs": [
        {
          "output_type": "stream",
          "text": [
            "Fitting 3 folds for each of 256 candidates, totalling 768 fits\n"
          ],
          "name": "stdout"
        },
        {
          "output_type": "stream",
          "text": [
            "[Parallel(n_jobs=-1)]: Using backend LokyBackend with 2 concurrent workers.\n",
            "[Parallel(n_jobs=-1)]: Done  46 tasks      | elapsed:  5.0min\n",
            "[Parallel(n_jobs=-1)]: Done 196 tasks      | elapsed: 20.8min\n",
            "[Parallel(n_jobs=-1)]: Done 446 tasks      | elapsed: 59.5min\n",
            "[Parallel(n_jobs=-1)]: Done 768 out of 768 | elapsed: 113.4min finished\n"
          ],
          "name": "stderr"
        }
      ]
    },
    {
      "cell_type": "code",
      "metadata": {
        "id": "PtY7k95yG6k6",
        "colab_type": "code",
        "colab": {
          "base_uri": "https://localhost:8080/",
          "height": 158
        },
        "outputId": "a8e9f29b-88bb-46dc-95d3-5a27bda1bc6d"
      },
      "source": [
        "bestF.best_estimator_"
      ],
      "execution_count": 72,
      "outputs": [
        {
          "output_type": "execute_result",
          "data": {
            "text/plain": [
              "RandomForestClassifier(bootstrap=True, ccp_alpha=0.0, class_weight=None,\n",
              "                       criterion='gini', max_depth=25, max_features='auto',\n",
              "                       max_leaf_nodes=None, max_samples=None,\n",
              "                       min_impurity_decrease=0.0, min_impurity_split=None,\n",
              "                       min_samples_leaf=2, min_samples_split=15,\n",
              "                       min_weight_fraction_leaf=0.0, n_estimators=100,\n",
              "                       n_jobs=None, oob_score=False, random_state=None,\n",
              "                       verbose=0, warm_start=False)"
            ]
          },
          "metadata": {
            "tags": []
          },
          "execution_count": 72
        }
      ]
    },
    {
      "cell_type": "code",
      "metadata": {
        "id": "1n5vlUaCkByI",
        "colab_type": "code",
        "colab": {
          "base_uri": "https://localhost:8080/",
          "height": 415
        },
        "outputId": "1451fc01-ab2f-474f-dce9-253dcfa48701"
      },
      "source": [
        "y_pred8 = bestF.predict(X_tree_test)\n",
        "fcnPrintErrorMetrics(y_tree_test, y_pred8)"
      ],
      "execution_count": 73,
      "outputs": [
        {
          "output_type": "stream",
          "text": [
            "Accuracy: 0.8501134722508769\n",
            "Precision Score: 0.7388297872340426\n",
            "Recall Score: 0.5908124202467036\n",
            "F1-Score: 0.6565823682344599\n"
          ],
          "name": "stdout"
        },
        {
          "output_type": "display_data",
          "data": {
            "image/png": "[encoded data removed]",
            "text/plain": [
              "<Figure size 720x360 with 2 Axes>"
            ]
          },
          "metadata": {
            "tags": []
          }
        }
      ]
    },
    {
      "cell_type": "code",
      "metadata": {
        "id": "_UNoEHk5qtVK",
        "colab_type": "code",
        "colab": {}
      },
      "source": [
        "# RF with optimized parameters\n",
        "rf_opt = RandomForestClassifier(bootstrap=True, ccp_alpha=0.0, class_weight=None,\n",
        "                       criterion='gini', max_depth=25, max_features='auto',\n",
        "                       max_leaf_nodes=None, max_samples=None,\n",
        "                       min_impurity_decrease=0.0, min_impurity_split=None,\n",
        "                       min_samples_leaf=2, min_samples_split=15,\n",
        "                       min_weight_fraction_leaf=0.0, n_estimators=100,\n",
        "                       n_jobs=None, oob_score=False, random_state=None,\n",
        "                       verbose=0, warm_start=False)"
      ],
      "execution_count": 81,
      "outputs": []
    },
    {
      "cell_type": "code",
      "metadata": {
        "id": "25Q-XJUPqxCl",
        "colab_type": "code",
        "colab": {
          "base_uri": "https://localhost:8080/",
          "height": 415
        },
        "outputId": "6beb80f6-2773-4844-e4fd-1a84e273c7d3"
      },
      "source": [
        "rf_opt.fit(X_tree_train, y_tree_train)\n",
        "y_pred9 = rf_opt.predict(X_tree_test)\n",
        "\n",
        "fcnPrintErrorMetrics(y_tree_test, y_pred9)"
      ],
      "execution_count": 84,
      "outputs": [
        {
          "output_type": "stream",
          "text": [
            "Accuracy: 0.8488755931504023\n",
            "Precision Score: 0.7358892438764644\n",
            "Recall Score: 0.5878349638451723\n",
            "F1-Score: 0.6535824071884606\n"
          ],
          "name": "stdout"
        },
        {
          "output_type": "display_data",
          "data": {
            "image/png": "[encoded data removed]",
            "text/plain": [
              "<Figure size 720x360 with 2 Axes>"
            ]
          },
          "metadata": {
            "tags": []
          }
        }
      ]
    },
    {
      "cell_type": "code",
      "metadata": {
        "id": "pHEVIyT6l5-Q",
        "colab_type": "code",
        "colab": {
          "base_uri": "https://localhost:8080/",
          "height": 77
        },
        "outputId": "364a2c0e-9c15-4cf7-fc72-422ffe22e473"
      },
      "source": [
        "# Randomized search for tuning xgboost hyperparameters\n",
        "def find_best_model(X, y):\n",
        "    algos = {\n",
        "        'xgboost': {\n",
        "            'model': XGBClassifier(),\n",
        "            'params': {\n",
        "                'n_estimators' : [100, 200, 500],\n",
        "                'learning_rate'    : [0.05, 0.10, 0.15, 0.20, 0.25, 0.30 ],\n",
        "                'reg_alpha' : [0.005, 0.01, 0.05],\n",
        "                'gamma' : [i/10.0 for i in range(0,5)],\n",
        "                'min_child_weight' : [6,8,10,12],\n",
        "                'max_depth' : [ 3, 4, 5, 6, 8, 10, 12, 15],\n",
        "                'colsample_bytree' : [ 0.3, 0.4, 0.5 , 0.7 ]\n",
        "            }\n",
        "        }\n",
        "    }  \n",
        "    scores = []\n",
        "    cv = StratifiedKFold(n_splits=5, shuffle=True, random_state=10)\n",
        "    for algo_name, config in algos.items():\n",
        "        gs =  RandomizedSearchCV(config['model'], config['params'], cv=cv, return_train_score=False)\n",
        "        gs.fit(X,y)\n",
        "        scores.append({\n",
        "            'model': algo_name,\n",
        "            'best_score': gs.best_score_,\n",
        "            'best_params': gs.best_params_\n",
        "        })\n",
        "\n",
        "    return pd.DataFrame(scores,columns=['model','best_score','best_params'])\n",
        "\n",
        "model_scores = find_best_model(X_tree_train, y_tree_train)\n",
        "model_scores"
      ],
      "execution_count": 75,
      "outputs": [
        {
          "output_type": "execute_result",
          "data": {
            "text/html": [
              "<div>\n",
              "<style scoped>\n",
              "    .dataframe tbody tr th:only-of-type {\n",
              "        vertical-align: middle;\n",
              "    }\n",
              "\n",
              "    .dataframe tbody tr th {\n",
              "        vertical-align: top;\n",
              "    }\n",
              "\n",
              "    .dataframe thead th {\n",
              "        text-align: right;\n",
              "    }\n",
              "</style>\n",
              "<table border=\"1\" class=\"dataframe\">\n",
              "  <thead>\n",
              "    <tr style=\"text-align: right;\">\n",
              "      <th></th>\n",
              "      <th>model</th>\n",
              "      <th>best_score</th>\n",
              "      <th>best_params</th>\n",
              "    </tr>\n",
              "  </thead>\n",
              "  <tbody>\n",
              "    <tr>\n",
              "      <th>0</th>\n",
              "      <td>xgboost</td>\n",
              "      <td>0.847505</td>\n",
              "      <td>{'reg_alpha': 0.005, 'n_estimators': 100, 'min...</td>\n",
              "    </tr>\n",
              "  </tbody>\n",
              "</table>\n",
              "</div>"
            ],
            "text/plain": [
              "     model  best_score                                        best_params\n",
              "0  xgboost    0.847505  {'reg_alpha': 0.005, 'n_estimators': 100, 'min..."
            ]
          },
          "metadata": {
            "tags": []
          },
          "execution_count": 75
        }
      ]
    },
    {
      "cell_type": "code",
      "metadata": {
        "id": "wTguTJAgnXeX",
        "colab_type": "code",
        "colab": {
          "base_uri": "https://localhost:8080/",
          "height": 141
        },
        "outputId": "29e1ba95-4a14-4daf-a15e-01828cdd7ac1"
      },
      "source": [
        "model_scores[ \"best_params\"][0]"
      ],
      "execution_count": 76,
      "outputs": [
        {
          "output_type": "execute_result",
          "data": {
            "text/plain": [
              "{'colsample_bytree': 0.5,\n",
              " 'gamma': 0.0,\n",
              " 'learning_rate': 0.05,\n",
              " 'max_depth': 10,\n",
              " 'min_child_weight': 10,\n",
              " 'n_estimators': 100,\n",
              " 'reg_alpha': 0.005}"
            ]
          },
          "metadata": {
            "tags": []
          },
          "execution_count": 76
        }
      ]
    },
    {
      "cell_type": "code",
      "metadata": {
        "id": "rMEStjsuv26z",
        "colab_type": "code",
        "colab": {
          "base_uri": "https://localhost:8080/",
          "height": 415
        },
        "outputId": "ca5ca9a4-d64d-464d-cb94-311ec4335c30"
      },
      "source": [
        "xgb_clf = XGBClassifier(colsample_bytree=0.5, gamma=0.0, learning_rate=0.05, max_depth=10, min_child_weight=10, n_estimators=100, reg_alpha=0.005)\n",
        "xgb_clf.fit(X_tree_train, y_tree_train)\n",
        "y_pred9 = xgb_clf.predict(X_tree_test)\n",
        "\n",
        "fcnPrintErrorMetrics(y_tree_test, y_pred9)"
      ],
      "execution_count": 77,
      "outputs": [
        {
          "output_type": "stream",
          "text": [
            "Accuracy: 0.8485661233752837\n",
            "Precision Score: 0.732490784623486\n",
            "Recall Score: 0.5916631220757125\n",
            "F1-Score: 0.6545882352941177\n"
          ],
          "name": "stdout"
        },
        {
          "output_type": "display_data",
          "data": {
            "image/png": "[encoded data removed]",
            "text/plain": [
              "<Figure size 720x360 with 2 Axes>"
            ]
          },
          "metadata": {
            "tags": []
          }
        }
      ]
    },
    {
      "cell_type": "code",
      "metadata": {
        "id": "3EegyWvuwc6f",
        "colab_type": "code",
        "colab": {}
      },
      "source": [
        "from sklearn.ensemble import StackingClassifier, VotingClassifier"
      ],
      "execution_count": 78,
      "outputs": []
    },
    {
      "cell_type": "code",
      "metadata": {
        "id": "8vA9gzrcmlgT",
        "colab_type": "code",
        "colab": {}
      },
      "source": [
        "# Using VotingClassifier to increase accuracy\n",
        "eclf1 = VotingClassifier(estimators=[('rf', rf_opt), ('xg', xgb_clf), ('lr', log_reg)], voting='hard')\n",
        "eclf1 = eclf1.fit(X_tree_train, y_tree_train)"
      ],
      "execution_count": 89,
      "outputs": []
    },
    {
      "cell_type": "code",
      "metadata": {
        "id": "w0SBz7MdqO9-",
        "colab_type": "code",
        "colab": {
          "base_uri": "https://localhost:8080/",
          "height": 415
        },
        "outputId": "88c224ca-d4ff-4e98-a15e-122e0b531430"
      },
      "source": [
        "y_pred11 = eclf1.predict(X_tree_test)\n",
        "fcnPrintErrorMetrics(y_tree_test, y_pred11)"
      ],
      "execution_count": 90,
      "outputs": [
        {
          "output_type": "stream",
          "text": [
            "Accuracy: 0.849700845884052\n",
            "Precision Score: 0.7400644468313641\n",
            "Recall Score: 0.5861335601871545\n",
            "F1-Score: 0.6541656776643723\n"
          ],
          "name": "stdout"
        },
        {
          "output_type": "display_data",
          "data": {
            "image/png": "[encoded data removed]",
            "text/plain": [
              "<Figure size 720x360 with 2 Axes>"
            ]
          },
          "metadata": {
            "tags": []
          }
        }
      ]
    },
    {
      "cell_type": "code",
      "metadata": {
        "id": "mbRjPyN5rutn",
        "colab_type": "code",
        "colab": {
          "base_uri": "https://localhost:8080/",
          "height": 415
        },
        "outputId": "1bd2fc2c-4e1a-4edd-fbe5-9df4268950c6"
      },
      "source": [
        "estimators = [('rf', rf_opt), ('xg', xgb_clf)]\n",
        "sclf = StackingClassifier(estimators=estimators, final_estimator=SVC())\n",
        "sclf.fit(X_tree_train, y_tree_train)\n",
        "y_pred12 = sclf.predict(X_tree_test)\n",
        "fcnPrintErrorMetrics(y_tree_test, y_pred12)"
      ],
      "execution_count": 92,
      "outputs": [
        {
          "output_type": "stream",
          "text": [
            "Accuracy: 0.848772436558696\n",
            "Precision Score: 0.7340031729243787\n",
            "Recall Score: 0.5903870693321991\n",
            "F1-Score: 0.6544082979726545\n"
          ],
          "name": "stdout"
        },
        {
          "output_type": "display_data",
          "data": {
            "image/png": "[encoded data removed]",
            "text/plain": [
              "<Figure size 720x360 with 2 Axes>"
            ]
          },
          "metadata": {
            "tags": []
          }
        }
      ]
    },
    {
      "cell_type": "markdown",
      "metadata": {
        "id": "tarjolV4tzuM",
        "colab_type": "text"
      },
      "source": [
        "##### Finally, we can select the VotingClassifier consisting of RF and XGB to be the final model. "
      ]
    },
    {
      "cell_type": "markdown",
      "metadata": {
        "id": "1t5Rh3eMuq-G",
        "colab_type": "text"
      },
      "source": [
        "### **4.4 Saving the Model**\n",
        "\n",
        "Saving the model in a pickle file."
      ]
    },
    {
      "cell_type": "code",
      "metadata": {
        "id": "QtxGsLqQsvsM",
        "colab_type": "code",
        "colab": {}
      },
      "source": [
        "import pickle\n",
        "import json"
      ],
      "execution_count": 93,
      "outputs": []
    },
    {
      "cell_type": "code",
      "metadata": {
        "id": "xyOFY7FYu6Ow",
        "colab_type": "code",
        "colab": {}
      },
      "source": [
        "with open('donors_prediction.pickle','wb') as f:\n",
        "    pickle.dump(eclf1, f)"
      ],
      "execution_count": 94,
      "outputs": []
    },
    {
      "cell_type": "code",
      "metadata": {
        "id": "wrM9SzIOvBM4",
        "colab_type": "code",
        "colab": {}
      },
      "source": [
        "cat_feature_columns = {\n",
        "    \"workclass\" : [col for col in le1.classes_], \n",
        "    \"education\" : education_encoding,\n",
        "    \"occupation\" : [col for col in le2.classes_],\n",
        "    \"marital_status\" : [col for col in le3.classes_], \n",
        "    \"relationship\" : [col for col in le4.classes_], \n",
        "    \"race\" : [col for col in le5.classes_], \n",
        "    \"gender\" : [col for col in le6.classes_],\n",
        "    \"native_country\" : [col for col in le7.classes_],\n",
        "    \"income\" : [col for col in le8.classes_],\n",
        "    \"columns\" : [col for col in X_tree.columns]\n",
        "}\n",
        "\n",
        "with open(\"columns.json\", \"w\") as f:\n",
        "    f.write(json.dumps(cat_feature_columns))"
      ],
      "execution_count": 98,
      "outputs": []
    },
    {
      "cell_type": "markdown",
      "metadata": {
        "id": "LoQP5KqoxQQN",
        "colab_type": "text"
      },
      "source": [
        "## **Conclusion**\n",
        "\n",
        "We were able to get the following results using Voting Classifier based on Random Forest and Xgboost.\n",
        "\n",
        "Accuracy: 0.849700845884052\n",
        "Precision Score: 0.7400644468313641\n",
        "Recall Score: 0.5861335601871545\n",
        "F1-Score: 0.6541656776643723"
      ]
    },
    {
      "cell_type": "code",
      "metadata": {
        "id": "jf39jS_nwcDl",
        "colab_type": "code",
        "colab": {}
      },
      "source": [
        ""
      ],
      "execution_count": null,
      "outputs": []
    }
  ]
}